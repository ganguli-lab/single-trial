{
 "metadata": {
  "language": "Julia",
  "name": "",
  "signature": "sha256:e1522bdeb339d97891aec4ca3729625f050e3809420622c08691dd14cb60b425"
 },
 "nbformat": 3,
 "nbformat_minor": 0,
 "worksheets": [
  {
   "cells": [
    {
     "cell_type": "code",
     "collapsed": false,
     "input": [
      "using PyPlot, Interact\n",
      "\n",
      "addprocs(12);"
     ],
     "language": "python",
     "metadata": {},
     "outputs": [
      {
       "html": [
        "<script charset=\"utf-8\">(function ($, undefined) {\n",
        "\n",
        "    function createElem(tag, attr, content) {\n",
        "\t// TODO: remove jQuery dependency\n",
        "\tvar el = $(\"<\" + tag + \"/>\").attr(attr);\n",
        "\tif (content) {\n",
        "\t    el.append(content);\n",
        "\t}\n",
        "\treturn el[0];\n",
        "    }\n",
        "\n",
        "    // A widget must expose an id field which identifies it to the backend,\n",
        "    // an elem attribute which is will be added to the DOM, and\n",
        "    // a getState() method which returns the value to be sent to the backend\n",
        "    // a sendUpdate() method which sends its current value to the backend\n",
        "    var Widget = {\n",
        "\tid: undefined,\n",
        "\telem: undefined,\n",
        "\tlabel: undefined,\n",
        "\tgetState: function () {\n",
        "\t    return this.elem.value;\n",
        "\t},\n",
        "\tsendUpdate: undefined\n",
        "    };\n",
        "\n",
        "    var Slider = function (typ, id, init) {\n",
        "\tvar attr = { type:  \"range\",\n",
        "\t\t     value: init.value,\n",
        "\t\t     min:   init.min,\n",
        "\t\t     max:   init.max,\n",
        "\t\t     step:  init.step },\n",
        "\t    elem = createElem(\"input\", attr),\n",
        "\t    self = this;\n",
        "\n",
        "\telem.onchange = function () {\n",
        "\t    self.sendUpdate();\n",
        "\t}\n",
        "\n",
        "\tthis.id = id;\n",
        "\tthis.elem = elem;\n",
        "\tthis.label = init.label;\n",
        "\n",
        "\tInputWidgets.commInitializer(this); // Initialize communication\n",
        "    }\n",
        "    Slider.prototype = Widget;\n",
        "\n",
        "    var Checkbox = function (typ, id, init) {\n",
        "\tvar attr = { type: \"checkbox\",\n",
        "\t\t     checked: init.value },\n",
        "\t    elem = createElem(\"input\", attr),\n",
        "\t    self = this;\n",
        "\n",
        "\tthis.getState = function () {\n",
        "\t    return elem.checked;\n",
        "\t}\n",
        "\telem.onchange = function () {\n",
        "\t    self.sendUpdate();\n",
        "\t}\n",
        "\n",
        "\tthis.id = id;\n",
        "\tthis.elem = elem;\n",
        "\tthis.label = init.label;\n",
        "\n",
        "\tInputWidgets.commInitializer(this);\n",
        "    }\n",
        "    Checkbox.prototype = Widget;\n",
        "\n",
        "    var Button = function (typ, id, init) {\n",
        "\tvar attr = { type:    \"button\",\n",
        "\t\t     value:   init.label },\n",
        "\t    elem = createElem(\"input\", attr),\n",
        "\t    self = this;\n",
        "\tthis.getState = function () {\n",
        "\t    return null;\n",
        "\t}\n",
        "\telem.onclick = function () {\n",
        "\t    self.sendUpdate();\n",
        "\t}\n",
        "\n",
        "\tthis.id = id;\n",
        "\tthis.elem = elem;\n",
        "\tthis.label = init.label;\n",
        "\n",
        "\tInputWidgets.commInitializer(this);\n",
        "    }\n",
        "    Button.prototype = Widget;\n",
        "\n",
        "    var Text = function (typ, id, init) {\n",
        "\tvar attr = { type:  \"text\",\n",
        "\t\t     placeholder: init.label,\n",
        "\t\t     value: init.value },\n",
        "\t    elem = createElem(\"input\", attr),\n",
        "\t    self = this;\n",
        "\tthis.getState = function () {\n",
        "\t    return elem.value;\n",
        "\t}\n",
        "\telem.onkeyup = function () {\n",
        "\t    self.sendUpdate();\n",
        "\t}\n",
        "\n",
        "\tthis.id = id;\n",
        "\tthis.elem = elem;\n",
        "\tthis.label = init.label;\n",
        "\n",
        "\tInputWidgets.commInitializer(this);\n",
        "    }\n",
        "    Text.prototype = Widget;\n",
        "\n",
        "    var Textarea = function (typ, id, init) {\n",
        "\tvar attr = { placeholder: init.label },\n",
        "\t    elem = createElem(\"textarea\", attr, init.value),\n",
        "\t    self = this;\n",
        "\tthis.getState = function () {\n",
        "\t    return elem.value;\n",
        "\t}\n",
        "\telem.onchange = function () {\n",
        "\t    self.sendUpdate();\n",
        "\t}\n",
        "\n",
        "\tthis.id = id;\n",
        "\tthis.elem = elem;\n",
        "\tthis.label = init.label;\n",
        "\n",
        "\tInputWidgets.commInitializer(this);\n",
        "    }\n",
        "    Textarea.prototype = Widget;\n",
        "\n",
        "    // RadioButtons\n",
        "    // Dropdown\n",
        "    // HTML\n",
        "    // Latex\n",
        "\n",
        "    var InputWidgets = {\n",
        "\tSlider: Slider,\n",
        "\tCheckbox: Checkbox,\n",
        "\tButton: Button,\n",
        "\tText: Text,\n",
        "\tTextarea: Textarea,\n",
        "\tdebug: false,\n",
        "\tlog: function () {\n",
        "\t    if (InputWidgets.debug) {\n",
        "\t\tconsole.log.apply(console, arguments);\n",
        "\t    }\n",
        "\t},\n",
        "\t// a central way to initalize communication\n",
        "\t// for widgets.\n",
        "\tcommInitializer: function (widget) {\n",
        "\t    widget.sendUpdate = function () {};\n",
        "\t}\n",
        "    };\n",
        "\n",
        "    window.InputWidgets = InputWidgets;\n",
        "\n",
        "})(jQuery, undefined);\n",
        "</script>"
       ],
       "metadata": {},
       "output_type": "display_data"
      },
      {
       "output_type": "stream",
       "stream": "stderr",
       "text": [
        "Vendor:  Continuum Analytics, Inc.\n",
        "Package: mkl\n",
        "Message: trial mode expires in 27 days\n",
        "INFO: Loading help data...\n"
       ]
      },
      {
       "html": [
        "<script charset=\"utf-8\">(function (IPython, $, _, MathJax, Widgets) {\n",
        "    $.event.special.destroyed = {\n",
        "\tremove: function(o) {\n",
        "\t    if (o.handler) {\n",
        "\t\to.handler.apply(this, arguments)\n",
        "\t    }\n",
        "\t}\n",
        "    }\n",
        "\n",
        "    var redrawValue = function (container, type, val) {\n",
        "\tvar selector = $(\"<div/>\");\n",
        "\tvar oa = new IPython.OutputArea(_.extend(selector, {\n",
        "\t    selector: selector,\n",
        "\t    prompt_area: true,\n",
        "\t    events: IPython.events,\n",
        "\t    keyboard_manager: IPython.keyboard_manager\n",
        "\t})); // Hack to work with IPython 2.1.0\n",
        "\n",
        "\tswitch (type) {\n",
        "\tcase \"image/png\":\n",
        "            var _src = 'data:' + type + ';base64,' + val;\n",
        "\t    $(container).find(\"img\").attr('src', _src);\n",
        "\t    break;\n",
        "\tdefault:\n",
        "\t    var toinsert = IPython.OutputArea.append_map[type].apply(\n",
        "\t\toa, [val, {}, selector]\n",
        "\t    );\n",
        "\t    $(container).empty().append(toinsert.contents());\n",
        "\t    selector.remove();\n",
        "\t}\n",
        "\tif (type === \"text/latex\" && MathJax) {\n",
        "\t    MathJax.Hub.Queue([\"Typeset\", MathJax.Hub, toinsert.get(0)]);\n",
        "\t}\n",
        "    }\n",
        "\n",
        "\n",
        "    $(document).ready(function() {\n",
        "\tWidgets.debug = false; // log messages etc in console.\n",
        "\tfunction initComm(evt, data) {\n",
        "\t    var comm_manager = data.kernel.comm_manager;\n",
        "\t    comm_manager.register_target(\"Signal\", function (comm) {\n",
        "\t\tcomm.on_msg(function (msg) {\n",
        "\t\t    //Widgets.log(\"message received\", msg);\n",
        "\t\t    var val = msg.content.data.value;\n",
        "\t\t    $(\".signal-\" + comm.comm_id).each(function() {\n",
        "\t\t\tvar type = $(this).data(\"type\");\n",
        "\t\t\tif (val[type]) {\n",
        "\t\t\t    redrawValue(this, type, val[type], type);\n",
        "\t\t\t}\n",
        "\t\t    });\n",
        "\t\t    delete val;\n",
        "\t\t    delete msg.content.data.value;\n",
        "\t\t});\n",
        "\t    });\n",
        "\n",
        "\t    // coordingate with Comm and redraw Signals\n",
        "\t    // XXX: Test using Reactive here to improve performance\n",
        "\t    $([IPython.events]).on(\n",
        "\t\t'output_appended.OutputArea', function (event, type, value, md, toinsert) {\n",
        "\t\t    if (md && md.reactive) {\n",
        "\t\t\t// console.log(md.comm_id);\n",
        "\t\t\ttoinsert.addClass(\"signal-\" + md.comm_id);\n",
        "\t\t\ttoinsert.data(\"type\", type);\n",
        "\t\t\t// Signal back indicating the mimetype required\n",
        "\t\t\tvar comm_manager = IPython.notebook.kernel.comm_manager;\n",
        "\t\t\tvar comm = comm_manager.comms[md.comm_id];\n",
        "\t\t\tcomm.send({action: \"subscribe_mime\",\n",
        "\t\t\t\t   mime: type});\n",
        "\t\t\ttoinsert.bind(\"destroyed\", function() {\n",
        "\t\t\t    comm.send({action: \"unsubscribe_mime\",\n",
        "\t\t\t\t       mime: type});\n",
        "\t\t\t});\n",
        "\t\t    }\n",
        "\t    });\n",
        "\n",
        "\t    // Set up communication for Widgets\n",
        "\t    Widgets.commInitializer = function (widget) {\n",
        "\t\tvar comm = comm_manager.new_comm(\n",
        "\t\t    \"InputWidget\", {widget_id: widget.id}\n",
        "\t\t);\n",
        "\t\twidget.sendUpdate = function () {\n",
        "\t\t    // `this` is a widget here.\n",
        "\t\t    // TODO: I have a feeling there's some\n",
        "\t\t    //       IPython bookkeeping to be done here.\n",
        "\t\t    // Widgets.log(\"State changed\", this, this.getState());\n",
        "\t\t    comm.send({value: this.getState()});\n",
        "\t\t}\n",
        "\t    };\n",
        "\t}\n",
        "\n",
        "\ttry {\n",
        "\t    // try to initialize right away. otherwise, wait on the status_started event.\n",
        "\t    initComm(undefined, IPython.notebook);\n",
        "\t} catch (e) {\n",
        "\t    $([IPython.events]).on('status_started.Kernel', initComm);\n",
        "\t}\n",
        "    });\n",
        "})(IPython, jQuery, _, MathJax, InputWidgets);\n",
        "</script>"
       ],
       "metadata": {},
       "output_type": "display_data"
      }
     ],
     "prompt_number": 1
    },
    {
     "cell_type": "markdown",
     "metadata": {},
     "source": [
      "### Generative model\n",
      "\n",
      "Our model for high-dimensional static decoding of neural activities:\n",
      "$$\n",
      "y^T = w^T \\left(UX_0 + Z \\right) + \\epsilon^T\n",
      "$$\n",
      "\n",
      "We have\n",
      "  - $X_0$, the $K$-by-$P$ signal matrix that is sampled from a $K$-dimensional subspace with all non-zero singular values equal to $r\\sqrt{\\frac{P}{K}}$,\n",
      "  - $U$, the $N$-by-$K$ embedding matrix that is drawing i.i.d. from $\\mathcal{N}(0, \\frac{1}{N})$,\n",
      "  - $Z$, the $N$-by-$P$ activities noise with $Z_{ij} \\sim \\mathcal{N}(0, \\frac{1}{N})$,\n",
      "  - $w$, a length-$N$ decoding unit-vector in the $K$-dimensional column space of $U$,\n",
      "  - $\\epsilon$, $P$ scalar noises for the behavior output draw i.i.d. from $\\mathcal{N}(0, s^2)$,\n",
      "  - $y$, $P$ scalar behavior outputs\n",
      "\n",
      "The generative model's parameters are $(N, K, P, r, s)$, we will use \n",
      "\n",
      "$$X = UX_0 + Z$$\n",
      "\n",
      "to denote neural activities.\n",
      "  \n",
      "### Observation model\n",
      "We model the observations of neural activities as\n",
      "$$\n",
      "\\hat{X} = S\\left(UX_0 + Z \\right)\n",
      "$$\n",
      "where $S$ is a $M$-by-$N$ random sampling matrix. Additionally, we also measure the behavior output $\\vec{y}$.\n",
      "\n",
      "The observation model's parameter is simply $M$."
     ]
    },
    {
     "cell_type": "code",
     "collapsed": false,
     "input": [
      "@everywhere immutable GenModel\n",
      "    N::Integer\n",
      "    K::Integer\n",
      "    P::Integer\n",
      "    r::Number\n",
      "    s::Number\n",
      "    w::Array{Float64, 1}\n",
      "    U::Array{Float64, 2}\n",
      "    \n",
      "    function GenModel(N::Integer, K::Integer, P::Integer, r::Number, s::Number)\n",
      "        U = randn(N, K) / sqrt(N)\n",
      "        Up, _ = qr(U)\n",
      "        w = Up * randn(K)\n",
      "        w /= norm(w)\n",
      "        return new(N, K, P, r, s, w, U)\n",
      "    end\n",
      "end\n",
      "\n",
      "@everywhere immutable ObsModel\n",
      "    gen::GenModel\n",
      "    M::Integer\n",
      "    S::Array{Float64, 2}\n",
      "    \n",
      "    function ObsModel(gen::GenModel, M::Integer)\n",
      "        S = eye(gen.N)[randperm(gen.N)[1:M], :]\n",
      "        return new(gen, M, S)\n",
      "    end\n",
      "end"
     ],
     "language": "python",
     "metadata": {},
     "outputs": [],
     "prompt_number": 26
    },
    {
     "cell_type": "markdown",
     "metadata": {},
     "source": [
      "### Sampling functions for the generative and observation models"
     ]
    },
    {
     "cell_type": "code",
     "collapsed": false,
     "input": [
      "@everywhere function rand(model::GenModel)\n",
      "    let N = model.N, K = model.K, P = model.P, r = model.r, s = model.s, w = model.w, U = model.U\n",
      "        X0 = qr(randn(P, K))[1]' * r * sqrt(P / K)\n",
      "        Z = randn(N, P) / sqrt(N)\n",
      "        \u03f5 = randn(P) * s\n",
      "        y = vec(w' * (U * X0 + Z) + \u03f5')\n",
      "        \n",
      "        return {:X0 => X0, :X => model.U * X0 + Z, :Z => Z, :e => \u03f5, :y => y}\n",
      "    end\n",
      "end\n",
      "\n",
      "@everywhere function rand(model::ObsModel)\n",
      "    rst = rand(model.gen)\n",
      "    rst[:Xhat] = model.S * rst[:X]\n",
      "    return rst\n",
      "end"
     ],
     "language": "python",
     "metadata": {},
     "outputs": [],
     "prompt_number": 27
    },
    {
     "cell_type": "markdown",
     "metadata": {},
     "source": [
      "## Problem 1: Inferring $K$\n",
      "\n",
      "The inferred $K$ from the data is the number of $\\hat{X}$'s singular values above the output noise floor\n",
      "\n",
      "$$\n",
      "\\frac{\\sqrt{P} + \\sqrt{M}}{\\sqrt{N}}\n",
      "$$\n",
      "\n",
      "The correct $K$ is inferred when the minimum singular value of sample neural activities is greater than the input noise floor, or,\n",
      "\n",
      "$$\n",
      "r\\sqrt{\\frac{P}{K}}\\left(\\sqrt{\\frac{M}{N}} - \\sqrt{\\frac{K}{N}}\\right) \\geq \\frac{\\left(MP\\right)^{1/4}}{\\sqrt{N}} \\Rightarrow r^2\\frac{\\sqrt{MP}}{K}\\left(1 - \\sqrt{\\frac{K}{M}}\\right)^2 \\geq 1\n",
      "$$"
     ]
    },
    {
     "cell_type": "markdown",
     "metadata": {},
     "source": [
      "### Function to find the number of signal modes, i.e. infer $K$"
     ]
    },
    {
     "cell_type": "code",
     "collapsed": false,
     "input": [
      "@everywhere function inferK(model::ObsModel; Xhat = None)\n",
      "    if Xhat == None; Xhat = rand(model)[:Xhat]; end\n",
      "    let gen = model.gen\n",
      "        _, S, _ = svd(Xhat)\n",
      "        return sum(S .> (sqrt(gen.P) + sqrt(model.M)) / sqrt(gen.N))\n",
      "    end\n",
      "end"
     ],
     "language": "python",
     "metadata": {},
     "outputs": [],
     "prompt_number": 37
    },
    {
     "cell_type": "markdown",
     "metadata": {},
     "source": [
      "### Sanity Check"
     ]
    },
    {
     "cell_type": "code",
     "collapsed": false,
     "input": [
      "@everywhere K, N, r, s = 5, 5000, 0.25, 0.0\n",
      "@everywhere Ms, Ps = 10:10:400, 10:10:400\n",
      "\n",
      "rst = [@spawn inferK(ObsModel(GenModel(N, K, P, r, s), M)) for M in Ms, P in Ps]\n",
      "rst = map(fetch, rst);\n",
      "\n",
      "theory = sqrt(Ms * Ps') / K * r^2 .* (1 - sqrt(K ./ repmat(Ms, 1, length(Ps)))).^2 .> 1;"
     ],
     "language": "python",
     "metadata": {},
     "outputs": [],
     "prompt_number": 38
    },
    {
     "cell_type": "code",
     "collapsed": false,
     "input": [
      "K, N, r, s = 5, 5000, 0.1, 0.0\n",
      "M, P = 50, 50\n",
      "\n",
      "o = ObsModel(GenModel(N, K, P, r, s), M)\n",
      "x = rand(o)\n",
      "\n",
      "X0 = x[:X0]\n",
      "SUX0 = o.S * o.gen.U * x[:X0]\n",
      "SU = o.S * o.gen.U\n",
      "\n",
      "println(string(\"Signal svs:\\n\", svd(X0)[2]))\n",
      "println(string(\"theory:\\n\", r * sqrt(P)))\n",
      "\n",
      "tmp = sqrt(eigs(SU * SU'; nev=K)[1])\n",
      "println(\"min/max sv of sampling/projection:\")\n",
      "println((minimum(tmp), maximum(tmp)))\n",
      "println(((sqrt(M) - sqrt(K)) / sqrt(N), (sqrt(M) + sqrt(K)) / sqrt(N)))\n",
      "\n",
      "tmp = sqrt(eigs(SUX0 * SUX0'; nev=K)[1])\n",
      "println(\"min/max sv of sampled/projected signal:\")\n",
      "println((minimum(tmp), maximum(tmp)))\n",
      "println(((sqrt(M) - sqrt(K)) / sqrt(N) * r * sqrt(P), (sqrt(M) + sqrt(K)) / sqrt(N) * r * sqrt(P)))\n",
      "\n",
      "println(\"Threshold:\")\n",
      "println((M * P)^(1/4) / sqrt(N))"
     ],
     "language": "python",
     "metadata": {},
     "outputs": [
      {
       "output_type": "stream",
       "stream": "stdout",
       "text": [
        "Signal svs:\n",
        "[0.31622776601683805,0.316227766016838,0.316227766016838,0.316227766016838,0.31622776601683794]\n"
       ]
      },
      {
       "output_type": "stream",
       "stream": "stdout",
       "text": [
        "theory:\n",
        "0.7071067811865476\n",
        "min/max sv of sampling/projection:\n",
        "(0.07457156233148571,0.12081587190739938)\n",
        "(0.0683772233983162,0.13162277660168378)\n",
        "min/max sv of sampled/projected signal:\n",
        "(0.023581598564471104,0.03820533327265335)\n",
        "(0.04834999834365686,0.09307135789365265)\n",
        "Threshold:\n",
        "0.1\n"
       ]
      }
     ],
     "prompt_number": 39
    },
    {
     "cell_type": "code",
     "collapsed": false,
     "input": [
      "### Inferring dimensionality correctly, checking against theory"
     ],
     "language": "python",
     "metadata": {},
     "outputs": [],
     "prompt_number": 52
    },
    {
     "cell_type": "code",
     "collapsed": false,
     "input": [
      "figure(figsize=(4, 3))\n",
      "imshow(rst, aspect=\"auto\", interpolation=\"nearest\", origin=\"lower\", cmap=\"RdBu_r\", extent=[minimum(Ps), maximum(Ps), minimum(Ms), maximum(Ms)]);\n",
      "colorbar();\n",
      "contour(repmat(Ps', length(Ms), 1), repmat(Ms, 1, length(Ps)), theory, 1, linewidths=4, colors=\"k\")"
     ],
     "language": "python",
     "metadata": {},
     "outputs": [
      {
       "metadata": {},
       "output_type": "display_data",
       "png": "[encoded data removed]",
       "text": [
        "Figure(PyObject <matplotlib.figure.Figure object at 0x7f1bbc89edd0>)"
       ]
      },
      {
       "metadata": {},
       "output_type": "pyout",
       "prompt_number": 40,
       "text": [
        "PyObject <matplotlib.contour.QuadContourSet instance at 0x7f1bbc245fc8>"
       ]
      }
     ],
     "prompt_number": 40
    },
    {
     "cell_type": "markdown",
     "metadata": {},
     "source": [
      "### How well can we infer $w$ and decode $y$?\n",
      "\n",
      "**Problem**: given $\\hat{X}$ and $y$, find $\\hat{w}$ such that $|\\hat{w}\\hat{X} - y^T|_2$ is minimized in a validation dataset\n",
      "\n",
      "**Analysis**: what is the angle between the inferred $\\hat{w}$ and the sampled ground truth $Sw$?\n",
      "\n",
      "**Algorithm #0**: This is a cheating algorithm with $\\hat{w} = \\alpha Sw$. In other words, we simply find the best scaling of the sampled ground truth decoding vector.\n",
      "\n",
      "**Algorithm #1**: Simple linear regression of $y$ against $\\hat{X}$.\n",
      "\n",
      "**Algorithm #2**: Infer the sampled signal subspace, $\\hat{U}$, from $\\hat{X}$ first using low-rank perturbation theory, then regress $y$ against $\\hat{U}^T\\hat{X}$\n",
      "\n",
      "**Algorithm #3**: Recover the best sampled signal $\\tilde{X}$ from $\\hat{X}$ using Gavish and Donoho and the Frobenius error metric, regress $y$ against $\\tilde{X}$."
     ]
    },
    {
     "cell_type": "code",
     "collapsed": false,
     "input": [
      "# algorithm #0\n",
      "@everywhere function cheat_w(Xhat, y, model::ObsModel)\n",
      "    Sw = model.S * model.gen.w\n",
      "    alpha = sum(y .* y) / sum(y .* vec(Sw' * Xhat))\n",
      "    return alpha * Sw\n",
      "end\n",
      "\n",
      "# algorithm #1\n",
      "@everywhere function simple_w(Xhat, y)\n",
      "    return pinv(Xhat * Xhat') * (Xhat * y)\n",
      "end\n",
      "\n",
      "# algorithm #2\n",
      "@everywhere function subspace_w(Xhat, y, model::ObsModel)\n",
      "    let gen = model.gen\n",
      "        thresh = sqrt(gen.P / gen.N) + sqrt(model.M / gen.N)\n",
      "        U, S, V = svd(Xhat)\n",
      "        K = sum(S .> thresh)\n",
      "        if K < 1; return zeros(size(Xhat, 1)); end;\n",
      "        Xtilde = U[:, 1:K]' * Xhat;\n",
      "        return U[:, 1:K] * pinv(Xtilde * Xtilde') * (Xtilde * y)\n",
      "#                 return  U[:, 1:K] * ((U[:, 1:K]' * Xhat)' \\ y)\n",
      "#         return  U[:, 1:K] * ((U[:, 1:K]' * Xhat)' \\ y)\n",
      "    end\n",
      "end\n",
      "\n",
      "# algorithm #3\n",
      "@everywhere function signal_w(Xhat, y, model::ObsModel)\n",
      "    let gen = model.gen\n",
      "        U, S, V = svd(Xhat)\n",
      "        S = S * sqrt(gen.N / gen.P)\n",
      "        thresh = 1 + sqrt(model.M / gen.P)\n",
      "        beta = model.M / gen.P\n",
      "        mask = S .> thresh\n",
      "        if sum(mask) < 1; return zeros(size(Xhat, 1)); end;\n",
      "        S[mask] = sqrt(S[mask].^2 - beta - 1 + sqrt((S[mask].^2 - beta - 1).^2 - 4 * beta)) / sqrt(2)\n",
      "        S[~mask] = 0\n",
      "        Xtilde = U * diagm(S * sqrt(gen.P / gen.N)) * V'\n",
      "        return pinv(Xtilde * Xtilde') * (Xtilde * y)\n",
      "    end\n",
      "end"
     ],
     "language": "python",
     "metadata": {},
     "outputs": [],
     "prompt_number": 43
    },
    {
     "cell_type": "code",
     "collapsed": false,
     "input": [
      "f = figure(figsize=(18, 6))\n",
      "\n",
      "println(\"Left four panels shows fitted coefficients against Sw, in the order:\")\n",
      "println(\"#0,   #1\")\n",
      "println(\"#2,   #3\")\n",
      "\n",
      "@manipulate for N in [2000, 5000], M in [50:50:1000], K in [2:4:42], P in [50:50:1000], r in 0.0:0.1:0.5, s in 0:0.1:1\n",
      "    g = GenModel(N, K, P, r, s);\n",
      "    o = ObsModel(g, M);\n",
      "    wS = o.S * g.w\n",
      "\n",
      "    train = rand(o)\n",
      "        \n",
      "    ytest = Float64[]\n",
      "    Xtest = zeros(M, 0)\n",
      "    while length(ytest) < 10000\n",
      "        tmp = rand(o)\n",
      "        ytest = [ytest; tmp[:y]]\n",
      "        Xtest = [Xtest tmp[:Xhat]]\n",
      "    end\n",
      "        \n",
      "    what_cheat = cheat_w(train[:Xhat], train[:y], o)\n",
      "    what_simple = simple_w(train[:Xhat], train[:y])\n",
      "    what_subspace = subspace_w(train[:Xhat], train[:y], o)\n",
      "    what_signal = signal_w(train[:Xhat], train[:y], o)\n",
      "\n",
      "    angle_cheat = abs(sum(wS .* what_cheat)) / norm(wS) / norm(what_cheat)\n",
      "    angle_simple = abs(sum(wS .* what_simple)) / norm(wS) / norm(what_simple)\n",
      "    angle_subspace = abs(sum(wS .* what_subspace)) / norm(wS) / norm(what_subspace)\n",
      "    angle_signal = abs(sum(wS .* what_signal)) / norm(wS) / norm(what_signal)\n",
      "\n",
      "    err_cheat = norm(vec(what_cheat' * Xtest) - ytest)^2 / norm(ytest)^2\n",
      "    err_simple = norm(vec(what_simple' * Xtest) - ytest)^2 / norm(ytest)^2\n",
      "    err_subspace = norm(vec(what_subspace' * Xtest) - ytest)^2 / norm(ytest)^2\n",
      "    err_signal = norm(vec(what_signal' * Xtest) - ytest)^2 / norm(ytest)^2\n",
      "\n",
      "    withfig(f) do\n",
      "        subplot(261)\n",
      "        plot(wS, what_cheat, \".\")\n",
      "        title(string(\"Inferred K: \", inferK(o; Xhat=train[:Xhat])))\n",
      "        subplot(262)\n",
      "        plot(wS, what_simple, \".\")\n",
      "        subplot(2, 6, 7)\n",
      "        plot(wS, what_subspace, \".\")\n",
      "        subplot(2, 6, 8)\n",
      "        plot(wS, what_signal, \".\")\n",
      "        subplot(132)\n",
      "        bar(1:4, [angle_cheat, angle_simple, angle_subspace, angle_signal])\n",
      "        xticks(1:4, [\"#0\", \"#1\", \"#2\", \"#3\"]); title(\"Overlap between Sw and w_hat\")\n",
      "        ylim([0, 1])\n",
      "        subplot(133)\n",
      "        bar(1:4, [err_cheat, err_simple, err_subspace, err_signal])\n",
      "        xticks(1:4, [\"#0\", \"#1\", \"#2\", \"#3\"]); title(\"Normalized error on held out data\");\n",
      "        ylim([1e-2, 1e2]); yscale(\"log\")\n",
      "    end    \n",
      "end"
     ],
     "language": "python",
     "metadata": {},
     "outputs": [
      {
       "output_type": "stream",
       "stream": "stdout",
       "text": [
        "Left four panels shows fitted coefficients against Sw, in the order:\n"
       ]
      },
      {
       "html": [],
       "metadata": {},
       "output_type": "display_data",
       "text": [
        "Options{:ToggleButtons,Int64}([Input{Int64}] 2000,\"N\",2000,\"2000\",[\"2000\"=>2000,\"5000\"=>5000])"
       ]
      },
      {
       "html": [],
       "metadata": {},
       "output_type": "display_data",
       "text": [
        "Options{:ToggleButtons,Int64}([Input{Int64}] 50,\"M\",50,\"50\",[\"50\"=>50,\"100\"=>100,\"150\"=>150,\"200\"=>200,\"250\"=>250,\"300\"=>300,\"350\"=>350,\"400\"=>400,\"450\"=>450,\"500\"=>500,\"550\"=>550,\"600\"=>600,\"650\"=>650,\"700\"=>700,\"750\"=>750,\"800\"=>800,\"850\"=>850,\"900\"=>900,\"950\"=>950,\"1000\"=>1000])"
       ]
      },
      {
       "html": [],
       "metadata": {},
       "output_type": "display_data",
       "text": [
        "Options{:ToggleButtons,Int64}([Input{Int64}] 2,\"K\",2,\"2\",[\"2\"=>2,\"6\"=>6,\"10\"=>10,\"14\"=>14,\"18\"=>18,\"22\"=>22,\"26\"=>26,\"30\"=>30,\"34\"=>34,\"38\"=>38,\"42\"=>42])"
       ]
      },
      {
       "html": [],
       "metadata": {},
       "output_type": "display_data",
       "text": [
        "Options{:ToggleButtons,Int64}([Input{Int64}] 50,\"P\",50,\"50\",[\"50\"=>50,\"100\"=>100,\"150\"=>150,\"200\"=>200,\"250\"=>250,\"300\"=>300,\"350\"=>350,\"400\"=>400,\"450\"=>450,\"500\"=>500,\"550\"=>550,\"600\"=>600,\"650\"=>650,\"700\"=>700,\"750\"=>750,\"800\"=>800,\"850\"=>850,\"900\"=>900,\"950\"=>950,\"1000\"=>1000])"
       ]
      },
      {
       "html": [],
       "metadata": {},
       "output_type": "display_data",
       "text": [
        "Slider{Float64}([Input{Float64}] 0.2,\"r\",0.2,0.0:0.1:0.5)"
       ]
      },
      {
       "html": [],
       "metadata": {},
       "output_type": "display_data",
       "text": [
        "Slider{Float64}([Input{Float64}] 0.5,\"s\",0.5,0.0:0.1:1.0)"
       ]
      },
      {
       "output_type": "stream",
       "stream": "stdout",
       "text": [
        "#0,   #1\n",
        "#2,   #3\n"
       ]
      },
      {
       "metadata": {
        "comm_id": "81903ae4-d551-4d0c-8c12-fb4bf7f9a950",
        "reactive": true
       },
       "output_type": "pyout",
       "png": "[encoded data removed]",
       "prompt_number": 45,
       "text": [
        "Figure(PyObject <matplotlib.figure.Figure object at 0x7f1bbc0e01d0>)"
       ]
      }
     ],
     "prompt_number": 45
    },
    {
     "cell_type": "markdown",
     "metadata": {},
     "source": [
      "### Now lets explore some 2-dimensional parameters space $M$ and $P$ with fixed $K$, $N$, $r$, $s$"
     ]
    },
    {
     "cell_type": "code",
     "collapsed": false,
     "input": [
      "@everywhere overlap(v1, v2) = abs(sum(v1 .* v2)) / norm(v1) / norm(v2)\n",
      "\n",
      "@everywhere testerror(w, X, y) = norm(vec(w' * X) - y)^2 / norm(y)^2\n",
      "\n",
      "@everywhere function trial(K, N, M, P, r, s)\n",
      "    g = GenModel(N, K, P, r, s);\n",
      "    o = ObsModel(g, M);\n",
      "    wS = o.S * g.w\n",
      "\n",
      "    train = rand(o)\n",
      "        \n",
      "    ytest = Float64[]\n",
      "    Xtest = zeros(M, 0)\n",
      "    while length(ytest) < 10000\n",
      "        tmp = rand(o)\n",
      "        ytest = [ytest; tmp[:y]]\n",
      "        Xtest = [Xtest tmp[:Xhat]]\n",
      "    end\n",
      "    \n",
      "    what_cheat = cheat_w(train[:Xhat], train[:y], o)\n",
      "    what_simple = simple_w(train[:Xhat], train[:y])\n",
      "    what_subspace = subspace_w(train[:Xhat], train[:y], o)\n",
      "    what_signal = signal_w(train[:Xhat], train[:y], o)\n",
      "    \n",
      "    return map(w -> (overlap(wS, w), testerror(w, Xtest, ytest)), {what_cheat, what_simple, what_subspace, what_signal})\n",
      "end"
     ],
     "language": "python",
     "metadata": {},
     "outputs": [],
     "prompt_number": 46
    },
    {
     "cell_type": "code",
     "collapsed": false,
     "input": [
      "@everywhere K, N, r, s = 5, 5000, 0.25, 0.0\n",
      "@everywhere Ms, Ps = 10:10:400, 10:10:400"
     ],
     "language": "python",
     "metadata": {},
     "outputs": [],
     "prompt_number": 47
    },
    {
     "cell_type": "code",
     "collapsed": false,
     "input": [
      "rst = [@spawn trial(K, N, M, P, r, s) for M = Ms, P = Ps];\n",
      "rst = map(fetch, rst);\n",
      "\n",
      "angle_cheat = map(x -> x[1][1], rst);\n",
      "angle_simple = map(x -> x[2][1], rst);\n",
      "angle_subspace = map(x -> x[3][1], rst);\n",
      "angle_signal = map(x -> x[4][1], rst);\n",
      "\n",
      "err_cheat = map(x -> x[1][2], rst);\n",
      "err_simple = map(x -> x[2][2], rst);\n",
      "err_subspace = map(x -> x[3][2], rst);\n",
      "err_signal = map(x -> x[4][2], rst);"
     ],
     "language": "python",
     "metadata": {},
     "outputs": [
      {
       "output_type": "stream",
       "stream": "stderr",
       "text": [
        "exception on "
       ]
      },
      {
       "output_type": "stream",
       "stream": "stderr",
       "text": [
        "exception on "
       ]
      },
      {
       "output_type": "stream",
       "stream": "stderr",
       "text": [
        "2: ERROR: LAPACKException(1)\n",
        " in gesdd! at linalg/lapack.jl:1044\n",
        " in svdfact! at linalg/factorization.jl:655\n",
        " in svdfact at linalg/factorization.jl:659\n",
        " in pinv at linalg/dense.jl:422\n",
        " in simple_w at In[43]:10\n",
        " in trial at In[46]:21\n",
        " in anonymous at multi.jl:1279\n",
        " in anonymous at multi.jl:848\n",
        " in run_work_thunk at multi.jl:621\n",
        " in run_work_thunk at multi.jl:630\n",
        " in anonymous at task.jl:6\n"
       ]
      },
      {
       "output_type": "stream",
       "stream": "stderr",
       "text": [
        "5: "
       ]
      },
      {
       "output_type": "stream",
       "stream": "stderr",
       "text": [
        "ERROR: LAPACKException(1)\n",
        " in gesdd! at linalg/lapack.jl:1044\n",
        " in svdfact! at linalg/factorization.jl:655\n",
        " in svdfact at linalg/factorization.jl:659\n",
        " in pinv at linalg/dense.jl:422\n",
        " in simple_w at In[43]:10\n",
        " in trial at In[46]:21\n",
        " in anonymous at multi.jl:1279\n",
        " in anonymous at multi.jl:848\n",
        " in run_work_thunk at multi.jl:621\n",
        " in run_work_thunk at multi.jl:630\n",
        " in anonymous at task.jl:6\n"
       ]
      },
      {
       "ename": "LoadError",
       "evalue": "`getindex` has no method matching getindex(::LAPACKException, ::Int64)\nwhile loading In[48], in expression starting on line 4",
       "output_type": "pyerr",
       "traceback": [
        "`getindex` has no method matching getindex(::LAPACKException, ::Int64)\nwhile loading In[48], in expression starting on line 4",
        "",
        " in anonymous at In[48]:4",
        " in map_to! at abstractarray.jl:1311",
        " in map at abstractarray.jl:1331"
       ]
      }
     ],
     "prompt_number": 48
    },
    {
     "cell_type": "code",
     "collapsed": false,
     "input": [
      "valid = r^2 * sqrt(Ms * Ps' / K) .* (1 - sqrt(K ./ repmat(Ms, 1, length(Ps)))).^2 .> 1"
     ],
     "language": "python",
     "metadata": {},
     "outputs": [
      {
       "metadata": {},
       "output_type": "pyout",
       "prompt_number": 49,
       "text": [
        "40x40 BitArray{2}:\n",
        " false  false  false  false  false  \u2026  false  false  false  false  false\n",
        " false  false  false  false  false     false  false  false  false  false\n",
        " false  false  false  false  false      true   true   true   true   true\n",
        " false  false  false  false  false      true   true   true   true   true\n",
        " false  false  false  false  false      true   true   true   true   true\n",
        " false  false  false  false  false  \u2026   true   true   true   true   true\n",
        " false  false  false  false  false      true   true   true   true   true\n",
        " false  false  false  false  false      true   true   true   true   true\n",
        " false  false  false  false   true      true   true   true   true   true\n",
        " false  false  false   true   true      true   true   true   true   true\n",
        " false  false  false   true   true  \u2026   true   true   true   true   true\n",
        " false  false   true   true   true      true   true   true   true   true\n",
        " false  false   true   true   true      true   true   true   true   true\n",
        "     \u22ee                              \u22f1      \u22ee                            \n",
        "  true   true   true   true   true      true   true   true   true   true\n",
        "  true   true   true   true   true      true   true   true   true   true\n",
        "  true   true   true   true   true  \u2026   true   true   true   true   true\n",
        "  true   true   true   true   true      true   true   true   true   true\n",
        "  true   true   true   true   true      true   true   true   true   true\n",
        "  true   true   true   true   true      true   true   true   true   true\n",
        "  true   true   true   true   true      true   true   true   true   true\n",
        "  true   true   true   true   true  \u2026   true   true   true   true   true\n",
        "  true   true   true   true   true      true   true   true   true   true\n",
        "  true   true   true   true   true      true   true   true   true   true\n",
        "  true   true   true   true   true      true   true   true   true   true\n",
        "  true   true   true   true   true      true   true   true   true   true"
       ]
      }
     ],
     "prompt_number": 49
    },
    {
     "cell_type": "code",
     "collapsed": false,
     "input": [
      "figure(figsize=(8, 6))\n",
      "\n",
      "subplot(221)\n",
      "imshow(angle_cheat, aspect=\"auto\", interpolation=\"nearest\", origin=\"lower\", vmin=0, vmax=1, extent=[50, 1000, 50, 1000]); colorbar();\n",
      "contour(repmat(Ps', length(Ms), 1), repmat(Ms, 1, length(Ps)), theory, 1, linewidths=4, colors=\"k\")\n",
      "title(\"#0\"); ylabel(\"M\")\n",
      "subplot(222)\n",
      "imshow(angle_simple, aspect=\"auto\", interpolation=\"nearest\", origin=\"lower\", vmin=0, vmax=1, extent=[50, 1000, 50, 1000]); colorbar();\n",
      "contour(repmat(Ps', length(Ms), 1), repmat(Ms, 1, length(Ps)), theory, 1, linewidths=4, colors=\"k\")\n",
      "title(\"#1\")\n",
      "subplot(223)\n",
      "imshow(angle_subspace, aspect=\"auto\", interpolation=\"nearest\", origin=\"lower\", vmin=0, vmax=1, extent=[50, 1000, 50, 1000]); colorbar();\n",
      "contour(repmat(Ps', length(Ms), 1), repmat(Ms, 1, length(Ps)), theory, 1, linewidths=4, colors=\"k\")\n",
      "title(\"#2\"); ylabel(\"M\"); xlabel(\"P\")\n",
      "subplot(224)\n",
      "imshow(angle_signal, aspect=\"auto\", interpolation=\"nearest\", origin=\"lower\", vmin=0, vmax=1, extent=[50, 1000, 50, 1000]); colorbar();\n",
      "contour(repmat(Ps', length(Ms), 1), repmat(Ms, 1, length(Ps)), theory, 1, linewidths=4, colors=\"k\")\n",
      "title(\"#3\"); xlabel(\"P\")"
     ],
     "language": "python",
     "metadata": {},
     "outputs": [
      {
       "ename": "LoadError",
       "evalue": "angle_cheat not defined\nwhile loading In[50], in expression starting on line 4",
       "output_type": "pyerr",
       "traceback": [
        "angle_cheat not defined\nwhile loading In[50], in expression starting on line 4",
        "",
        " in getindex at /home/prgao/.julia/v0.3/PyCall/src/PyCall.jl:642",
        " in pysequence_query at /home/prgao/.julia/v0.3/PyCall/src/conversions.jl:743",
        " in pytype_query at /home/prgao/.julia/v0.3/PyCall/src/conversions.jl:759",
        " in convert at /home/prgao/.julia/v0.3/PyCall/src/conversions.jl:808",
        " in pycall at /home/prgao/.julia/v0.3/PyCall/src/PyCall.jl:812",
        " in fn at /home/prgao/.julia/v0.3/PyCall/src/conversions.jl:181",
        " in close_queued_figs at /home/prgao/.julia/v0.3/PyPlot/src/PyPlot.jl:295"
       ]
      }
     ],
     "prompt_number": 50
    },
    {
     "cell_type": "code",
     "collapsed": false,
     "input": [
      "figure(figsize=(8, 6))\n",
      "\n",
      "subplot(221)\n",
      "imshow(1 - err_cheat, aspect=\"auto\", interpolation=\"nearest\", origin=\"lower\", vmin=0, vmax=1, extent=[50, 1000, 50, 1000]); colorbar();\n",
      "contour(repmat(Ps', length(Ms), 1), repmat(Ms, 1, length(Ps)), theory, 1, linewidths=4, colors=\"k\")\n",
      "title(\"#0\"); ylabel(\"M\")\n",
      "subplot(222)\n",
      "imshow(1 - err_simple, aspect=\"auto\", interpolation=\"nearest\", origin=\"lower\", vmin=0, vmax=1, extent=[50, 1000, 50, 1000]); colorbar();\n",
      "contour(repmat(Ps', length(Ms), 1), repmat(Ms, 1, length(Ps)), theory, 1, linewidths=4, colors=\"k\")\n",
      "title(\"#1\")\n",
      "subplot(223)\n",
      "imshow(1 - err_subspace, aspect=\"auto\", interpolation=\"nearest\", origin=\"lower\", vmin=0, vmax=1, extent=[50, 1000, 50, 1000]); colorbar();\n",
      "contour(repmat(Ps', length(Ms), 1), repmat(Ms, 1, length(Ps)), theory, 1, linewidths=4, colors=\"k\")\n",
      "title(\"#2\"); ylabel(\"M\"); xlabel(\"P\")\n",
      "subplot(224)\n",
      "imshow(1 - err_signal, aspect=\"auto\", interpolation=\"nearest\", origin=\"lower\", vmin=0, vmax=1, extent=[50, 1000, 50, 1000]); colorbar();\n",
      "contour(repmat(Ps', length(Ms), 1), repmat(Ms, 1, length(Ps)), theory, 1, linewidths=4, colors=\"k\")\n",
      "title(\"#3\"); xlabel(\"P\")"
     ],
     "language": "python",
     "metadata": {},
     "outputs": [
      {
       "ename": "LoadError",
       "evalue": "err_cheat not defined\nwhile loading In[51], in expression starting on line 4",
       "output_type": "pyerr",
       "traceback": [
        "err_cheat not defined\nwhile loading In[51], in expression starting on line 4",
        "",
        " in getindex at /home/prgao/.julia/v0.3/PyCall/src/PyCall.jl:642",
        " in pysequence_query at /home/prgao/.julia/v0.3/PyCall/src/conversions.jl:743",
        " in pytype_query at /home/prgao/.julia/v0.3/PyCall/src/conversions.jl:759",
        " in convert at /home/prgao/.julia/v0.3/PyCall/src/conversions.jl:808",
        " in pycall at /home/prgao/.julia/v0.3/PyCall/src/PyCall.jl:812",
        " in fn at /home/prgao/.julia/v0.3/PyCall/src/conversions.jl:181",
        " in close_queued_figs at /home/prgao/.julia/v0.3/PyPlot/src/PyPlot.jl:295"
       ]
      }
     ],
     "prompt_number": 51
    }
   ],
   "metadata": {}
  }
 ]
}