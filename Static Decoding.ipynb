{
 "metadata": {
  "language": "Julia",
  "name": "",
  "signature": "sha256:d0b98c707d7fba722484317fc3e664ea643713f8df90024a67ef52254b55d657"
 },
 "nbformat": 3,
 "nbformat_minor": 0,
 "worksheets": [
  {
   "cells": [
    {
     "cell_type": "markdown",
     "metadata": {},
     "source": [
      "### Generative model\n",
      "\n",
      "Our model for high-dimensional static decoding of neural activities:\n",
      "$$\n",
      "\\vec{y}^T = \\vec{w} \\left(X + Z \\right) + \\vec{\\epsilon}^T\n",
      "$$\n",
      "\n",
      "We have\n",
      "  - $X$, the $N$-by-$P$ signal matrix that is sampled from a $K$-dimensional ball or sphere of radius $r$,\n",
      "  - $Z$, the $N$-by-$P$ activities noise with $Z_{ij} \\sim \\mathcal{N}(0, \\frac{1}{N})$,\n",
      "  - $\\vec{w}$, a length-$N$ decoding unit-vector in the $K$-dimensional signal space\n",
      "  - $\\vec{\\epsilon}$, $P$ scalar noises for the behavior output draw i.i.d. from $\\mathcal{N}(0, s^2)$\n",
      "  - $\\vec{y}$, $P$ scalar behavior outputs\n",
      "  \n",
      "### Observation model\n",
      "We model the observations of neural activities as\n",
      "$$\n",
      "\\hat{X} = U\\left(X + Z \\right)\n",
      "$$\n",
      "where $U$ is a $M$-by-$N$ random sampling matrix.\n",
      "\n",
      "Additionally, we also measure the behavior output $\\vec{y}$."
     ]
    }
   ],
   "metadata": {}
  }
 ]
}