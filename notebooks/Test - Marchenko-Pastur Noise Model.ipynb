{
 "cells": [
  {
   "cell_type": "code",
   "execution_count": 1,
   "metadata": {
    "collapsed": false
   },
   "outputs": [
    {
     "data": {
      "text/html": [
       "<script charset=\"utf-8\">(function ($, undefined) {\n",
       "\n",
       "    function createElem(tag, attr, content) {\n",
       "\t// TODO: remove jQuery dependency\n",
       "\tvar el = $(\"<\" + tag + \"/>\").attr(attr);\n",
       "\tif (content) {\n",
       "\t    el.append(content);\n",
       "\t}\n",
       "\treturn el[0];\n",
       "    }\n",
       "\n",
       "    // A widget must expose an id field which identifies it to the backend,\n",
       "    // an elem attribute which is will be added to the DOM, and\n",
       "    // a getState() method which returns the value to be sent to the backend\n",
       "    // a sendUpdate() method which sends its current value to the backend\n",
       "    var Widget = {\n",
       "\tid: undefined,\n",
       "\telem: undefined,\n",
       "\tlabel: undefined,\n",
       "\tgetState: function () {\n",
       "\t    return this.elem.value;\n",
       "\t},\n",
       "\tsendUpdate: undefined\n",
       "    };\n",
       "\n",
       "    var Slider = function (typ, id, init) {\n",
       "\tvar attr = { type:  \"range\",\n",
       "\t\t     value: init.value,\n",
       "\t\t     min:   init.min,\n",
       "\t\t     max:   init.max,\n",
       "\t\t     step:  init.step },\n",
       "\t    elem = createElem(\"input\", attr),\n",
       "\t    self = this;\n",
       "\n",
       "\telem.onchange = function () {\n",
       "\t    self.sendUpdate();\n",
       "\t}\n",
       "\n",
       "\tthis.id = id;\n",
       "\tthis.elem = elem;\n",
       "\tthis.label = init.label;\n",
       "\n",
       "\tInputWidgets.commInitializer(this); // Initialize communication\n",
       "    }\n",
       "    Slider.prototype = Widget;\n",
       "\n",
       "    var Checkbox = function (typ, id, init) {\n",
       "\tvar attr = { type: \"checkbox\",\n",
       "\t\t     checked: init.value },\n",
       "\t    elem = createElem(\"input\", attr),\n",
       "\t    self = this;\n",
       "\n",
       "\tthis.getState = function () {\n",
       "\t    return elem.checked;\n",
       "\t}\n",
       "\telem.onchange = function () {\n",
       "\t    self.sendUpdate();\n",
       "\t}\n",
       "\n",
       "\tthis.id = id;\n",
       "\tthis.elem = elem;\n",
       "\tthis.label = init.label;\n",
       "\n",
       "\tInputWidgets.commInitializer(this);\n",
       "    }\n",
       "    Checkbox.prototype = Widget;\n",
       "\n",
       "    var Button = function (typ, id, init) {\n",
       "\tvar attr = { type:    \"button\",\n",
       "\t\t     value:   init.label },\n",
       "\t    elem = createElem(\"input\", attr),\n",
       "\t    self = this;\n",
       "\tthis.getState = function () {\n",
       "\t    return null;\n",
       "\t}\n",
       "\telem.onclick = function () {\n",
       "\t    self.sendUpdate();\n",
       "\t}\n",
       "\n",
       "\tthis.id = id;\n",
       "\tthis.elem = elem;\n",
       "\tthis.label = init.label;\n",
       "\n",
       "\tInputWidgets.commInitializer(this);\n",
       "    }\n",
       "    Button.prototype = Widget;\n",
       "\n",
       "    var Text = function (typ, id, init) {\n",
       "\tvar attr = { type:  \"text\",\n",
       "\t\t     placeholder: init.label,\n",
       "\t\t     value: init.value },\n",
       "\t    elem = createElem(\"input\", attr),\n",
       "\t    self = this;\n",
       "\tthis.getState = function () {\n",
       "\t    return elem.value;\n",
       "\t}\n",
       "\telem.onkeyup = function () {\n",
       "\t    self.sendUpdate();\n",
       "\t}\n",
       "\n",
       "\tthis.id = id;\n",
       "\tthis.elem = elem;\n",
       "\tthis.label = init.label;\n",
       "\n",
       "\tInputWidgets.commInitializer(this);\n",
       "    }\n",
       "    Text.prototype = Widget;\n",
       "\n",
       "    var Textarea = function (typ, id, init) {\n",
       "\tvar attr = { placeholder: init.label },\n",
       "\t    elem = createElem(\"textarea\", attr, init.value),\n",
       "\t    self = this;\n",
       "\tthis.getState = function () {\n",
       "\t    return elem.value;\n",
       "\t}\n",
       "\telem.onchange = function () {\n",
       "\t    self.sendUpdate();\n",
       "\t}\n",
       "\n",
       "\tthis.id = id;\n",
       "\tthis.elem = elem;\n",
       "\tthis.label = init.label;\n",
       "\n",
       "\tInputWidgets.commInitializer(this);\n",
       "    }\n",
       "    Textarea.prototype = Widget;\n",
       "\n",
       "    // RadioButtons\n",
       "    // Dropdown\n",
       "    // HTML\n",
       "    // Latex\n",
       "\n",
       "    var InputWidgets = {\n",
       "\tSlider: Slider,\n",
       "\tCheckbox: Checkbox,\n",
       "\tButton: Button,\n",
       "\tText: Text,\n",
       "\tTextarea: Textarea,\n",
       "\tdebug: false,\n",
       "\tlog: function () {\n",
       "\t    if (InputWidgets.debug) {\n",
       "\t\tconsole.log.apply(console, arguments);\n",
       "\t    }\n",
       "\t},\n",
       "\t// a central way to initalize communication\n",
       "\t// for widgets.\n",
       "\tcommInitializer: function (widget) {\n",
       "\t    widget.sendUpdate = function () {};\n",
       "\t}\n",
       "    };\n",
       "\n",
       "    window.InputWidgets = InputWidgets;\n",
       "\n",
       "})(jQuery, undefined);\n",
       "</script>"
      ]
     },
     "metadata": {},
     "output_type": "display_data"
    },
    {
     "name": "stderr",
     "output_type": "stream",
     "text": [
      "INFO: Loading help data...\n"
     ]
    },
    {
     "data": {
      "text/html": [
       "<script charset=\"utf-8\">(function (IPython, $, _, MathJax, Widgets) {\n",
       "    $.event.special.destroyed = {\n",
       "\tremove: function(o) {\n",
       "\t    if (o.handler) {\n",
       "\t\to.handler.apply(this, arguments)\n",
       "\t    }\n",
       "\t}\n",
       "    }\n",
       "\n",
       "    var redrawValue = function (container, type, val) {\n",
       "\tvar selector = $(\"<div/>\");\n",
       "\tvar oa = new IPython.OutputArea(_.extend(selector, {\n",
       "\t    selector: selector,\n",
       "\t    prompt_area: true,\n",
       "\t    events: IPython.events,\n",
       "\t    keyboard_manager: IPython.keyboard_manager\n",
       "\t})); // Hack to work with IPython 2.1.0\n",
       "\n",
       "\tswitch (type) {\n",
       "\tcase \"image/png\":\n",
       "            var _src = 'data:' + type + ';base64,' + val;\n",
       "\t    $(container).find(\"img\").attr('src', _src);\n",
       "\t    break;\n",
       "\tdefault:\n",
       "\t    var toinsert = IPython.OutputArea.append_map[type].apply(\n",
       "\t\toa, [val, {}, selector]\n",
       "\t    );\n",
       "\t    $(container).empty().append(toinsert.contents());\n",
       "\t    selector.remove();\n",
       "\t}\n",
       "\tif (type === \"text/latex\" && MathJax) {\n",
       "\t    MathJax.Hub.Queue([\"Typeset\", MathJax.Hub, toinsert.get(0)]);\n",
       "\t}\n",
       "    }\n",
       "\n",
       "\n",
       "    $(document).ready(function() {\n",
       "\tWidgets.debug = false; // log messages etc in console.\n",
       "\tfunction initComm(evt, data) {\n",
       "\t    var comm_manager = data.kernel.comm_manager;\n",
       "        //_.extend(comm_manager.targets, require(\"widgets/js/widget\"))\n",
       "\t    comm_manager.register_target(\"Signal\", function (comm) {\n",
       "            comm.on_msg(function (msg) {\n",
       "                //Widgets.log(\"message received\", msg);\n",
       "                var val = msg.content.data.value;\n",
       "                $(\".signal-\" + comm.comm_id).each(function() {\n",
       "                var type = $(this).data(\"type\");\n",
       "                if (val[type]) {\n",
       "                    redrawValue(this, type, val[type], type);\n",
       "                }\n",
       "                });\n",
       "                delete val;\n",
       "                delete msg.content.data.value;\n",
       "            });\n",
       "\t    });\n",
       "\n",
       "\t    // coordingate with Comm and redraw Signals\n",
       "\t    // XXX: Test using Reactive here to improve performance\n",
       "\t    $([IPython.events]).on(\n",
       "\t\t'output_appended.OutputArea', function (event, type, value, md, toinsert) {\n",
       "\t\t    if (md && md.reactive) {\n",
       "                // console.log(md.comm_id);\n",
       "                toinsert.addClass(\"signal-\" + md.comm_id);\n",
       "                toinsert.data(\"type\", type);\n",
       "                // Signal back indicating the mimetype required\n",
       "                var comm_manager = IPython.notebook.kernel.comm_manager;\n",
       "                var comm = comm_manager.comms[md.comm_id];\n",
       "                comm.then(function (c) {\n",
       "                    c.send({action: \"subscribe_mime\",\n",
       "                       mime: type});\n",
       "                    toinsert.bind(\"destroyed\", function() {\n",
       "                        c.send({action: \"unsubscribe_mime\",\n",
       "                               mime: type});\n",
       "                    });\n",
       "                })\n",
       "\t\t    }\n",
       "\t    });\n",
       "\t}\n",
       "\n",
       "\ttry {\n",
       "\t    // try to initialize right away. otherwise, wait on the status_started event.\n",
       "\t    initComm(undefined, IPython.notebook);\n",
       "\t} catch (e) {\n",
       "\t    $([IPython.events]).on('status_started.Kernel', initComm);\n",
       "\t}\n",
       "    });\n",
       "})(IPython, jQuery, _, MathJax, InputWidgets);\n",
       "</script>"
      ]
     },
     "metadata": {},
     "output_type": "display_data"
    }
   ],
   "source": [
    "push!(LOAD_PATH, \"../src/\")\n",
    "\n",
    "using HDStat, PyPlot, Interact"
   ]
  },
  {
   "cell_type": "markdown",
   "metadata": {},
   "source": [
    "## 1. Testing functions that compute the spectra of Marchenko-Pastur noise model\n",
    "\n",
    "Note that only the non-zero part of the spectrum is considered regardless of wide/narrow matrices"
   ]
  },
  {
   "cell_type": "code",
   "execution_count": 7,
   "metadata": {
    "collapsed": false
   },
   "outputs": [
    {
     "data": {
      "text/html": [],
      "text/plain": [
       "Options{:ToggleButtons,Int64}([Input{Int64}] 1000,\"n\",1000,\"1000\",[\"1000\"=>1000,\"2000\"=>2000,\"5000\"=>5000])"
      ]
     },
     "metadata": {},
     "output_type": "display_data"
    },
    {
     "data": {
      "text/html": [],
      "text/plain": [
       "Slider{Int64}([Input{Int64}] 2500,\"p\",2500,100:100:5000)"
      ]
     },
     "metadata": {},
     "output_type": "display_data"
    },
    {
     "data": {
      "text/html": [],
      "text/plain": [
       "Slider{Float64}([Input{Float64}] 0.5,\"σ\",0.5,0.1:0.1:1.0)"
      ]
     },
     "metadata": {},
     "output_type": "display_data"
    },
    {
     "data": {
      "text/html": [],
      "text/plain": [
       "Options{:ToggleButtons,Int64}([Input{Int64}] 20,\"bins\",20,\"20\",[\"20\"=>20,\"50\"=>50,\"100\"=>100,\"200\"=>200])"
      ]
     },
     "metadata": {},
     "output_type": "display_data"
    },
    {
     "data": {
      "image/png": "[encoded data removed]",
      "text/plain": [
       "Figure(PyObject <matplotlib.figure.Figure object at 0x7f3f283b1750>)"
      ]
     },
     "execution_count": 7,
     "metadata": {
      "comm_id": "adee8469-7b18-4a06-bd7c-1d86910f83a4",
      "reactive": true
     },
     "output_type": "execute_result"
    }
   ],
   "source": [
    "ns = [1000, 2000, 5000]\n",
    "ps = 100:100:5000\n",
    "\n",
    "f = figure(figsize=(8, 3))\n",
    "\n",
    "@manipulate for n in ns, p in ps, σ in 0.1:0.1:1, bins in [20, 50, 100, 200]\n",
    "    m = MPModel(n, p, σ)\n",
    "    \n",
    "    Ss = sv_rand(m)\n",
    "    Su, Sl = sv_ub(m), sv_lb(m)\n",
    "    \n",
    "    Es = ev_rand(m)\n",
    "    Eu, El = ev_ub(m), ev_lb(m)\n",
    "    \n",
    "    svspec = sv_spec(m)\n",
    "    evspec = ev_spec(m)\n",
    "    \n",
    "    withfig(f) do\n",
    "        x = ev_linsupport(m, 101)\n",
    "        y = map(evspec, x)\n",
    "        subplot(121)\n",
    "        plt.hist(Es, bins, normed=true, histtype=\"step\")\n",
    "        plt.plot(x, y, \"r--\", linewidth=\"2\")\n",
    "        axvline(El, linewidth=2, color=\"k\", linestyle=\"--\")\n",
    "        axvline(Eu, linewidth=2, color=\"k\", linestyle=\"--\")\n",
    "        xticks([El, Eu]); yticks([minimum(y), maximum(y)]); ylim([0, maximum(y) * 1.2]); title(\"Eigenvalue Spectrum\")\n",
    "        \n",
    "        x = sv_linsupport(m, 101)\n",
    "        y = map(svspec, x)\n",
    "        subplot(122)\n",
    "        plt.hist(Ss, bins, normed=true, histtype=\"step\")\n",
    "        plt.plot(x, y, \"r--\", linewidth=\"2\")\n",
    "        axvline(Sl, linewidth=2, color=\"k\", linestyle=\"--\")\n",
    "        axvline(Su, linewidth=2, color=\"k\", linestyle=\"--\")\n",
    "        xticks([Sl, Su]); yticks([minimum(y), maximum(y)]); ylim([0, maximum(y) * 1.2]); title(\"Singular Value Spectrum\")\n",
    "        \n",
    "        tight_layout()\n",
    "    end\n",
    "end"
   ]
  },
  {
   "cell_type": "markdown",
   "metadata": {},
   "source": [
    "## 2. Testing functions that deals with the low-rank perturbations to a Marchenko-Pastur noise model"
   ]
  },
  {
   "cell_type": "code",
   "execution_count": 16,
   "metadata": {
    "collapsed": false
   },
   "outputs": [
    {
     "data": {
      "text/html": [],
      "text/plain": [
       "Options{:ToggleButtons,Int64}([Input{Int64}] 500,\"n\",500,\"500\",OptionDict({\"500\",\"1000\"},{\"1000\"=>1000,\"500\"=>500}))"
      ]
     },
     "metadata": {},
     "output_type": "display_data"
    },
    {
     "data": {
      "text/html": [],
      "text/plain": [
       "Slider{Int64}([Input{Int64}] 500,\"p\",500,400:100:600)"
      ]
     },
     "metadata": {},
     "output_type": "display_data"
    },
    {
     "data": {
      "text/html": [],
      "text/plain": [
       "Slider{Int64}([Input{Int64}] 1,\"k\",1,1:2)"
      ]
     },
     "metadata": {},
     "output_type": "display_data"
    },
    {
     "data": {
      "text/html": [],
      "text/plain": [
       "Slider{Float64}([Input{Float64}] 0.5,\"σ\",0.5,0.1:0.1:1.0)"
      ]
     },
     "metadata": {},
     "output_type": "display_data"
    },
    {
     "data": {
      "image/png": "[encoded data removed]",
      "text/plain": [
       "Figure(PyObject <matplotlib.figure.Figure object at 0x7ff2079447b8>)"
      ]
     },
     "execution_count": 16,
     "metadata": {
      "comm_id": "44a194a8-5abc-4c70-9614-d95a510fd8a0",
      "reactive": true
     },
     "output_type": "execute_result"
    }
   ],
   "source": [
    "g = figure(figsize=(6, 5))\n",
    "\n",
    "npt = 20\n",
    "\n",
    "cca(U, V) = sum(svd(U' * V)[2]) / size(U, 2)\n",
    "\n",
    "@manipulate for n in [500, 1000], p = 400:100:600, k = 1:2, σ in 0.1:0.1:1\n",
    "    m = MPModel(n, p, σ)\n",
    "    \n",
    "    sthresh = sv_infloor(m)\n",
    "    sv_out = zeros(npt, k)\n",
    "    ev_out = zeros(npt, k)\n",
    "    sv_in = sqrt(linspace(0, sthresh^2 * 4, npt))\n",
    "    left, right = zeros(npt), zeros(npt)\n",
    "    for (ksv, sv) in enumerate(sv_in)\n",
    "        U, V = qr(randn(n, k))[1], qr(randn(p, k))[1]\n",
    "        X = rand(m) + sv * U * V'\n",
    "        ev_out[ksv, :] = eigs(X * X'; nev=k)[1]\n",
    "        sv_out[ksv, :] = sqrt(ev_out[ksv, :])\n",
    "        Up, _, Vp = svd(X)\n",
    "        left[ksv], right[ksv] = cca(Up[:, 1:k], U), cca(Vp[:, 1:k], V)\n",
    "    end\n",
    "    \n",
    "    sv_out_theory = map(x -> sv_xfer(m, x), sv_in)\n",
    "    ev_out_theory = map(x -> ev_xfer(m, x), sv_in.^2)\n",
    "    tmp = map(x -> svec_overlap(m, x), sv_in)\n",
    "    left_theory, right_theory = map(x -> x[1], tmp), map(x -> x[2], tmp)\n",
    "    \n",
    "    withfig(g) do\n",
    "        subplot(221)\n",
    "        PyPlot.locator_params(nbins=3)\n",
    "        plot(sv_in * sqrt(k / n), sv_out / sqrt(p), \"ko\")\n",
    "        plot(sv_in * sqrt(k / n), sv_out_theory / sqrt(p), \"k-\", linewidth=2)\n",
    "        axvline(sthresh * sqrt(k / n), color=\"r\", linestyle=\"--\", linewidth=2)\n",
    "        axhline(sv_xfer(m, sthresh) / sqrt(p), color=\"r\", linestyle=\"--\", linewidth=2)\n",
    "#         title(\"Singular Value Phase Transition\")\n",
    "        subplot(222)\n",
    "        PyPlot.locator_params(nbins=3)\n",
    "        plot(sv_in.^2 * (k / n), ev_out / p, \"ko\")\n",
    "        plot(sv_in.^2 * (k / n), ev_out_theory / p, \"k-\", linewidth=2)\n",
    "        axvline(sthresh^2 * (k / n), color=\"r\", linestyle=\"--\", linewidth=2)\n",
    "        axhline(sv_xfer(m, sthresh)^2 / p, color=\"r\", linestyle=\"--\", linewidth=2)\n",
    "        xlim([0, 4])\n",
    "#         title(\"Eigenvalue Phase Transition\")\n",
    "        subplot(223)\n",
    "        PyPlot.locator_params(nbins=3)\n",
    "        plot(sv_in.^2 * (k / n), left, \"ko\")\n",
    "        plot(sv_in.^2 * (k / n), left_theory, \"k-\", linewidth=2)\n",
    "        yticks([0, 1]); #title(\"Left Singular Vector Overlap\")\n",
    "        xlim([0, 4])\n",
    "        subplot(224)\n",
    "        PyPlot.locator_params(nbins=3)\n",
    "        plot(sv_in.^2 * (k / n), right, \"ko\")\n",
    "        plot(sv_in.^2 * (k / n), right_theory, \"k-\", linewidth=2)\n",
    "        yticks([0, 1]); #title(\"Right Singular Vector Overlap\")\n",
    "        xlim([0, 4])\n",
    "        tight_layout()\n",
    "        \n",
    "        savefig(\"spike.cov.eps\")\n",
    "    end\n",
    "end"
   ]
  },
  {
   "cell_type": "code",
   "execution_count": null,
   "metadata": {
    "collapsed": true
   },
   "outputs": [],
   "source": []
  }
 ],
 "metadata": {
  "kernelspec": {
   "display_name": "Julia 0.3.11",
   "language": "julia",
   "name": "julia-0.3"
  },
  "language_info": {
   "file_extension": ".jl",
   "mimetype": "application/julia",
   "name": "julia",
   "version": "0.3.11"
  }
 },
 "nbformat": 4,
 "nbformat_minor": 0
}
