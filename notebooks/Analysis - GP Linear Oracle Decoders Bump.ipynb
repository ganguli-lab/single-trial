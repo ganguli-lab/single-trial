{
 "cells": [
  {
   "cell_type": "markdown",
   "metadata": {},
   "source": [
    "### Relevant libraries"
   ]
  },
  {
   "cell_type": "code",
   "execution_count": 1,
   "metadata": {
    "collapsed": false
   },
   "outputs": [
    {
     "name": "stderr",
     "output_type": "stream",
     "text": [
      "WARNING: Method definition info(Any...) in module Base at util.jl:334 overwritten in module Logging at /home/prgao/.julia/v0.4/Logging/src/Logging.jl:61.\n",
      "WARNING: Method definition warn(Any...) in module Base at util.jl:364 overwritten in module Logging at /home/prgao/.julia/v0.4/Logging/src/Logging.jl:61.\n"
     ]
    },
    {
     "data": {
      "text/plain": [
       "Logger(root,DEBUG,IOStream(<file oracle_linear_bump.log>),root)"
      ]
     },
     "execution_count": 1,
     "metadata": {},
     "output_type": "execute_result"
    }
   ],
   "source": [
    "push!(LOAD_PATH, \"../src/\")\n",
    "using PyPlot, Logging\n",
    "Logging.configure(level=DEBUG, filename=\"oracle_linear_bump.log\")"
   ]
  },
  {
   "cell_type": "code",
   "execution_count": 2,
   "metadata": {
    "collapsed": false
   },
   "outputs": [
    {
     "name": "stderr",
     "output_type": "stream",
     "text": [
      "WARNING: replacing module GP\n",
      "WARNING: replacing module GP\n",
      "WARNING: replacing module GP\n",
      "WARNING: replacing module GP\n",
      "WARNING: replacing module GP\n",
      "WARNING: replacing module GP\n",
      "WARNING: replacing module GP\n",
      "WARNING: replacing module GP\n",
      "WARNING: replacing module GP\n",
      "WARNING: replacing module GP\n",
      "WARNING: replacing module GP\n"
     ]
    }
   ],
   "source": [
    "# start the parallel workers\n",
    "if length(workers()) > 1\n",
    "    rmprocs(workers())\n",
    "end\n",
    "addprocs(11)\n",
    "@everywhere push!(LOAD_PATH, \"../src/\")\n",
    "@everywhere using GP, Optim"
   ]
  },
  {
   "cell_type": "markdown",
   "metadata": {},
   "source": [
    "### Theoretically calculated performances"
   ]
  },
  {
   "cell_type": "code",
   "execution_count": 3,
   "metadata": {
    "collapsed": true
   },
   "outputs": [],
   "source": [
    "# generates a bump function\n",
    "@everywhere function bump(θs, δ)\n",
    "    return (1 - exp(-δ^2))^2 ./ (1 - 2*exp(-δ^2)*cos(θs - π) + exp(-2*δ^2))\n",
    "end\n",
    "\n",
    "# simulate the decoding of a bump function\n",
    "@everywhere function bump_r2(M, σn, Δ, δ; res=1024, plt=false)\n",
    "    ker = Kernel(Δ)\n",
    "    # tuning curves\n",
    "    θs, tcs = tc(res, M, ker)\n",
    "    y = bump(θs, δ)\n",
    "    # responses\n",
    "    r = tcs + randn(res, M) * σn\n",
    "    # best output weights\n",
    "    w1 = inv(tcs' * tcs / res + σn^2 * eye(M)) * tcs' * y / res\n",
    "    \n",
    "    if plt\n",
    "        plot(θs, y, \"k-\")\n",
    "        plot(θs, r * w1, \"r--\")\n",
    "    end\n",
    "\n",
    "    return 1 - sum((r * w1 - y).^2) / sum(y.^2)\n",
    "end"
   ]
  },
  {
   "cell_type": "code",
   "execution_count": 4,
   "metadata": {
    "collapsed": true
   },
   "outputs": [],
   "source": [
    "# max r2 performance (decoding a DC signal)\n",
    "@everywhere function r2_max(M, σn, Δ)\n",
    "    return 1 / (1 + 1/ (tanh(Δ/2) * M / σn^2))\n",
    "end\n",
    "\n",
    "# given bump width, what is the performance?\n",
    "@everywhere function r2_delta(M, σn, Δ, δ; tol=1e-6)\n",
    "    f2 = 2 * π^2 * 2 / (1 + sech(δ^2)) * tanh(δ^2 / 2)\n",
    "    \n",
    "    s = 4*π^2 * tanh(δ^2/2)^2 / (1 + 1 / (M / σn^2 * tanh(Δ/2)))\n",
    "    k = 1\n",
    "    while true\n",
    "        t1 = 4*π^2 * tanh(δ^2/2)^2 * exp(-2*k*δ^2)\n",
    "        t2 = M / σn^2 * tanh(Δ/2) * exp(-k*Δ)\n",
    "        snew = s + 2 * t1 / (1 + 1/t2)\n",
    "        if abs((snew - s) / s) < tol; break; end\n",
    "        s = snew; k=k+1\n",
    "    end\n",
    "    return s / f2\n",
    "end\n",
    "\n",
    "# given required performance, what is the minimal bump width?\n",
    "@everywhere function delta_min(M, σn, Δ, r)\n",
    "    if r2_max(M, σn, Δ) < r; return -1; end\n",
    "    \n",
    "    return optimize(δ -> (r2_delta(M, σn, Δ, δ) - r)^2, 1e-9, 1).minimum\n",
    "end"
   ]
  },
  {
   "cell_type": "markdown",
   "metadata": {},
   "source": [
    "### Minimal tuning width as a function of population size"
   ]
  },
  {
   "cell_type": "code",
   "execution_count": 26,
   "metadata": {
    "collapsed": false
   },
   "outputs": [
    {
     "data": {
      "text/plain": [
       "0.9"
      ]
     },
     "execution_count": 26,
     "metadata": {},
     "output_type": "execute_result"
    }
   ],
   "source": [
    "MsFull = logspace(1, 10, 20) # range of pop size to sweep\n",
    "σn = sqrt(1) # noise level\n",
    "M = 500 # number of neurons in the population\n",
    "Δ = 0.25 # smoothness\n",
    "r2 = 0.9 # required performance"
   ]
  },
  {
   "cell_type": "code",
   "execution_count": 35,
   "metadata": {
    "collapsed": false
   },
   "outputs": [],
   "source": [
    "# compute the minimal width in a parallel loop\n",
    "δmins = SharedArray(Float64, length(MsFull))\n",
    "@sync @parallel for ixM in 1:length(MsFull)\n",
    "    M = MsFull[ixM]\n",
    "    δmins[ixM] = 2.78 * delta_min(M, σn, Δ, r2)^2\n",
    "end;"
   ]
  },
  {
   "cell_type": "code",
   "execution_count": 36,
   "metadata": {
    "collapsed": false
   },
   "outputs": [
    {
     "data": {
      "image/png": "[encoded data removed]",
      "text/plain": [
       "PyPlot.Figure(PyObject <matplotlib.figure.Figure object at 0x7ff73885b400>)"
      ]
     },
     "metadata": {},
     "output_type": "display_data"
    }
   ],
   "source": [
    "# plot the result\n",
    "figure(figsize=(3, 2.5))\n",
    "PyPlot.locator_params(nbins=3)\n",
    "\n",
    "plot(log10(MsFull), δmins, \"k-\", linewidth=2)\n",
    "yscale(\"log\"); ylabel(\"delta2 min\"); xlabel(\"log M\")\n",
    "tight_layout()"
   ]
  },
  {
   "cell_type": "markdown",
   "metadata": {},
   "source": [
    "### Example bump decoding"
   ]
  },
  {
   "cell_type": "code",
   "execution_count": 10,
   "metadata": {
    "collapsed": false
   },
   "outputs": [
    {
     "data": {
      "image/png": "[encoded data removed]",
      "text/plain": [
       "PyPlot.Figure(PyObject <matplotlib.figure.Figure object at 0x7ff738e33cc0>)"
      ]
     },
     "metadata": {},
     "output_type": "display_data"
    },
    {
     "data": {
      "text/plain": [
       "PyObject <matplotlib.text.Text object at 0x7ff738d9c128>"
      ]
     },
     "execution_count": 10,
     "metadata": {},
     "output_type": "execute_result"
    }
   ],
   "source": [
    "σn = sqrt(1) # noise level\n",
    "M = 500 # number of neurons in the population\n",
    "Δ = 0.25 # smoothness\n",
    "r2 = 0.9 # required performance\n",
    "dmin = delta_min(500, σn, Δ, r2) # corresponding minimal bump width\n",
    "\n",
    "figure(figsize=(3, 2.5))\n",
    "PyPlot.locator_params(nbins=3)\n",
    "# simulate and plot the result\n",
    "r2_actual = bump_r2(M, σn, Δ, dmin; plt=true)\n",
    "xlabel(\"theta\"); xlim([0, 2π])\n",
    "title(@sprintf(\"min width = %0.2f, r2_req = %0.2f, r2_sim = %0.3f\", dmin, r2, r2_actual))"
   ]
  },
  {
   "cell_type": "markdown",
   "metadata": {},
   "source": [
    "### Performance (simulated vs theory) as a function of bump width"
   ]
  },
  {
   "cell_type": "code",
   "execution_count": 22,
   "metadata": {
    "collapsed": false
   },
   "outputs": [
    {
     "data": {
      "text/plain": [
       "0.38478864754244557"
      ]
     },
     "execution_count": 22,
     "metadata": {},
     "output_type": "execute_result"
    }
   ],
   "source": [
    "σn = sqrt(0.1) # noise std\n",
    "M = 50 # size of the population\n",
    "Δ = 0.5 # smoothness of manifold\n",
    "r2 = 0.9 # required performance\n",
    "δs = logspace(-2, 0, 20) # widths to scan"
   ]
  },
  {
   "cell_type": "code",
   "execution_count": 23,
   "metadata": {
    "collapsed": false
   },
   "outputs": [
    {
     "data": {
      "text/plain": [
       "11-element Array{Any,1}:\n",
       " RemoteRef{Channel{Any}}(2,1,276) \n",
       " RemoteRef{Channel{Any}}(3,1,277) \n",
       " RemoteRef{Channel{Any}}(4,1,278) \n",
       " RemoteRef{Channel{Any}}(5,1,279) \n",
       " RemoteRef{Channel{Any}}(6,1,280) \n",
       " RemoteRef{Channel{Any}}(7,1,281) \n",
       " RemoteRef{Channel{Any}}(8,1,282) \n",
       " RemoteRef{Channel{Any}}(9,1,283) \n",
       " RemoteRef{Channel{Any}}(10,1,284)\n",
       " RemoteRef{Channel{Any}}(11,1,285)\n",
       " RemoteRef{Channel{Any}}(12,1,286)"
      ]
     },
     "execution_count": 23,
     "metadata": {},
     "output_type": "execute_result"
    }
   ],
   "source": [
    "sim_r2, theory_r2 = SharedArray(Float64, length(δs)), SharedArray(Float64, length(δs))\n",
    "@sync @parallel for kδ in 1:length(δs)\n",
    "    δ = δs[kδ]\n",
    "    sim_r2[kδ], theory_r2[kδ] = bump_r2(M, σn, Δ, δ), r2_delta(M, σn, Δ, δ);\n",
    "end"
   ]
  },
  {
   "cell_type": "code",
   "execution_count": 37,
   "metadata": {
    "collapsed": false
   },
   "outputs": [
    {
     "data": {
      "image/png": "[encoded data removed]",
      "text/plain": [
       "PyPlot.Figure(PyObject <matplotlib.figure.Figure object at 0x7ff7386c9be0>)"
      ]
     },
     "metadata": {},
     "output_type": "display_data"
    },
    {
     "data": {
      "text/plain": [
       "PyObject <matplotlib.text.Text object at 0x7ff7388c5208>"
      ]
     },
     "execution_count": 37,
     "metadata": {},
     "output_type": "execute_result"
    }
   ],
   "source": [
    "figure(figsize=(3, 2.5))\n",
    "PyPlot.locator_params(nbins=3)\n",
    "# lot theory and simulated results\n",
    "plot(δs, theory_r2, \"r:\")\n",
    "plot(δs, sim_r2, \"ko\")\n",
    "# plot approximate theory\n",
    "plot(δs, 2 * δs.^2 / Δ * log(1 + M / σn^2 * tanh(Δ/2)), \"k:\")\n",
    "# location of minimal width\n",
    "δmin = delta_min(M, σn, Δ, r2) # minimal width\n",
    "# minimal width and the corresponding performance for reference\n",
    "PyPlot.axvline(δmin, linestyle=\"--\", color=\"k\")\n",
    "PyPlot.axhline(r2, linestyle=\"--\", color=\"k\")\n",
    "ylim([0, 1]); xscale(\"log\")\n",
    "xlabel(\"delta\"); ylabel(\"R2\")"
   ]
  }
 ],
 "metadata": {
  "kernelspec": {
   "display_name": "Julia 0.4.0",
   "language": "julia",
   "name": "julia-0.4"
  },
  "language_info": {
   "file_extension": ".jl",
   "mimetype": "application/julia",
   "name": "julia",
   "version": "0.4.0"
  }
 },
 "nbformat": 4,
 "nbformat_minor": 0
}
