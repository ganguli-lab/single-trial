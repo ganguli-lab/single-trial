{
 "metadata": {
  "language": "Julia",
  "name": "",
  "signature": "sha256:f69418a49f5c001894d51f2de8e0426ce52f36551779ed1fb2762e23605c3325"
 },
 "nbformat": 3,
 "nbformat_minor": 0,
 "worksheets": [
  {
   "cells": [
    {
     "cell_type": "markdown",
     "metadata": {},
     "source": [
      "Refer <a href=\"Analysis%20-%20Static%20Low-D%20Stim%20Decoding.ipynb\">this notebook</a> for the full problem description (reproduced partially below).\n",
      "\n",
      "### Generative model\n",
      "\n",
      "Our model for low-dimensional linear encoding of stimulus,\n",
      "$$\n",
      "R^F = UX^0 + Z\n",
      "$$\n",
      "\n",
      "where\n",
      "  - $R^F$, the $N$-by-$P$, firing-rate matrix of the entire population of neurons,\n",
      "  - $X^0$, the $K$-by-$P$ signal, or stimulus, matrix that is sampled from a $K$-dimensional subspace with i.i.d. elements from $\\mathcal{N}(0, \\frac{N}{K}\\sigma_s^2)$,\n",
      "  - $U$, the $N$-by-$K$ orthogonal embedding matrix of the stimulus subspace,\n",
      "  - $Z$, the $N$-by-$P$ activities noise with $Z_{ij} \\sim \\mathcal{N}(0, \\sigma_n^2)$.\n",
      "  \n",
      "The generative model's parameters are $(N, K, P, \\sigma_s, \\sigma_n)$, we will use \n",
      "\n",
      "$$X = UX^0$$\n",
      "\n",
      "to denote the embedded signal/stimulus. Note that for **individual neurons** and the **population** as a whole, we have the **signal-to-noise ratio**\n",
      "\n",
      "$$\n",
      "\\text{SNR} = \\frac{\\sigma_s^2}{\\sigma_n^2}\n",
      "$$\n",
      "\n",
      "and for the **signal subspace** spanned by columns of $U$, we have the **subspace signal-to-noise ratio**\n",
      "\n",
      "$$\n",
      "\\text{SNR}_s = \\frac{N}{K}\\frac{\\sigma_s^2}{\\sigma_n^2} = \\frac{N}{K}SNR\n",
      "$$\n",
      "\n",
      "We will use $k$, $m$, and $p$ to denote the normalized quantities $K / N$, $M / N$, and $P / N$."
     ]
    },
    {
     "cell_type": "markdown",
     "metadata": {},
     "source": [
      "### Observation model\n",
      "We model the observations of neural activities as\n",
      "$$\n",
      "R^S = SR^F = S(X + Z)\n",
      "$$\n",
      "where $S$ is a $M$-by-$N$ random sampling matrix. Additionally, we also measure the behavior output $y$.\n",
      "\n",
      "The observation model's parameter is simply $M$."
     ]
    },
    {
     "cell_type": "markdown",
     "metadata": {},
     "source": [
      "### Problem\n",
      "\n",
      "We would like to find $\\hat{W}$, s.t.\n",
      "$\n",
      "\\left|\\hat{W}R^S - X^0\\right|_2\n",
      "$\n",
      "is minimized."
     ]
    },
    {
     "cell_type": "markdown",
     "metadata": {},
     "source": [
      "### Theoretical Treatment at the infinite data limit\n",
      "\n",
      "In this notebook, we **theoretically** compute the performance of such a linear decoder in the **infinite data limit**, or $P \\to \\infty$. Use the short hand $A = SU$, it's easy to derive that\n",
      "\n",
      "$$\n",
      "\\hat{W} = A^T(AA^T + \\frac{1}{\\text{SNR}_s}I)^{-1}\n",
      "$$\n",
      "\n",
      "with performance measured by $R$-squared as,\n",
      "\n",
      "$$\n",
      "\\begin{align}\n",
      "R^2 &= 1 - \\frac{\\text{Tr}\\left[ (\\hat{W}R^S - X^0)(\\hat{W}R^S - X^0)^T \\right]}{\\text{Tr}\\left[X^0{X^0}^T\\right]} \\\\\n",
      "&= \\frac{1}{K} \\text{Tr}\\left[\\frac{AA^T}{AA^T + \\text{SNR}_s^{-1}I } \\right] \\\\\n",
      "&= \\frac{1}{K}\\sum_{i = 1}^\\infty (-1)^{i + 1} {\\text{SNR}_s}^{i} \\text{Tr}\\left[ (AA^T)^i \\right] \\tag{Taylor series}\n",
      "\\end{align}\n",
      "$$\n",
      "\n",
      "To compute the infinite series above, we note that $AA^T$'s eigenvalue spectrum $\\mu^{AA^T}(\\lambda)$ has the Stieljes transform,\n",
      "\n",
      "$$\n",
      "\\begin{align}\n",
      "G^{AA^T}(z) &= \\int \\frac{1}{z - \\lambda} d\\mu^{AA^T}(\\lambda) \\\\\n",
      "&= \\lim_{N \\to \\infty} \\sum_{i = 0}^\\infty \\frac{\\text{Tr}\\left[ \\frac{1}{M}(AA^T)^i \\right]}{z^{i + 1}}\n",
      "\\end{align}\n",
      "$$\n",
      "\n",
      "This allows us to **re-express the $R$-squared measure in terms of $\\mu^{AA^T}(\\lambda)$'s Stiejles transform** (see this <a href=\"Analysis%20-%20Static%20Low-D%20Stim%20Decoding%2C%20Eigen%20Spectrum%20Proof.ipynb\">notebook</a>) to compute a closed form of decoding performance,\n",
      "\n",
      "$$\n",
      "\\begin{align}\n",
      "R^2 &= \\frac{1}{\\text{SNR}_s}\\frac{M}{K} \\left( G^{AA^T}\\left(-\\text{SNR}_s^{-1}\\right) + \\text{SNR}_s \\right) \\\\\n",
      "&= \\frac{k + (k + m)\\text{SNR} - \\sqrt{\\left( \\lambda_-\\text{SNR} + k \\right) \\left( \\lambda_+\\text{SNR} + k \\right)}}{2k(k+\\text{SNR})}\\\\\n",
      "&= \\frac{1 + (k + m)\\text{SNR}_s - \\sqrt{\\left( \\lambda_-\\text{SNR}_s + 1 \\right) \\left( \\lambda_+\\text{SNR}_s + 1 \\right)}}{2k\\left(1 + \\text{SNR}_s\\right)}\n",
      "\\end{align}\n",
      "$$\n",
      "\n",
      "where $\\lambda_\\pm$ denote the upper and lower bounds of $\\mu^{AA^T}(\\lambda)$,\n",
      "\n",
      "$$\n",
      "\\lambda_\\pm = \\left(\\sqrt{k(1 - m)} \\pm \\sqrt{m(1 - k)} \\right)^2\n",
      "$$"
     ]
    },
    {
     "cell_type": "markdown",
     "metadata": {},
     "source": [
      "### Limits and bounds of the $R$-squared performance measure\n",
      "\n",
      "In the large and small signal-to-noise ratio limits:\n",
      "\n",
      "$$\n",
      "\\begin{align}\n",
      "\\lim_{\\text{SNR} \\to \\infty} R^2 &\\approx 1 - \\frac{k - k^2}{m - k}\\frac{1}{\\text{SNR}} \\\\\n",
      "&\\approx 1 - \\frac{k}{m}\\frac{1}{\\text{SNR}} \\tag{for $k \\ll m$} \\\\\n",
      "\\lim_{\\text{SNR} \\to 0} R^2 &\\approx \\frac{m}{k}\\text{SNR}\n",
      "\\end{align}\n",
      "$$\n",
      "\n",
      "Furthermore, we have bounds on the performance measure,\n",
      "\n",
      "$$\n",
      "k\\frac{\\text{SNR}}{1 + \\text{SNR}} \\leq R^2 \\leq \\frac{\\text{SNR}_s}{1 + \\text{SNR}_s}\n",
      "$$\n",
      "\n",
      "  - The **lower bound** (a guess) on the left side corresponds to the case where decoding is done by the **averaging of single-neuron decoders**. (which limit do we take to get here???)\n",
      "  - The **upper bound** on the right side corresponds to the case where the signal is **decoded in the correct signal subspace** (unknown to experimenters). The performance approaches this bound as $m \\to 1$, or when we approach full observation.\n",
      "  \n",
      "### Question?\n",
      "\n",
      "What is $m(\\text{SNR}, k)$ beyond which we have perfect recovery???"
     ]
    },
    {
     "cell_type": "markdown",
     "metadata": {},
     "source": [
      "### Verification"
     ]
    },
    {
     "cell_type": "code",
     "collapsed": false,
     "input": [
      "using PyPlot, Interact\n",
      "\n",
      "println(\"Red dot: simulation using matrix trace\")\n",
      "println(\"Black line: exact theory\")\n",
      "println(\"Blue/red dash: low and high SNR limiting behavior\")\n",
      "\n",
      "f = figure(figsize=(8, 3))\n",
      "N = 1000\n",
      "@manipulate for k = 0.01:0.01:1, m = 0.01:0.01:1\n",
      "    if k <= m\n",
      "        K, M = int(k * N), int(m * N)\n",
      "        A = qr(randn(N, K))[1][randperm(N)[1:M], :]\n",
      "        es = eig(A * A')[1]\n",
      "        \n",
      "        snr = logspace(-2, 2, 21)\n",
      "        snrs = snr / k\n",
      "        R2(s) = sum(es ./ (es + 1 / s * k) / K)\n",
      "        R2s = map(R2, snr)\n",
      "        \n",
      "        snrp = logspace(-2, 2, 100)\n",
      "        snrps = snrp / k\n",
      "        lp, lm = (sqrt(k * (1 - m)) + sqrt(m * (1 - k)))^2, (sqrt(k * (1 - m)) - sqrt(m * (1 - k)))^2\n",
      "#         R2p(s) = (k + (k + m) * s - sqrt((lm * s + k) * (lp * s + k))) / k / (k + s)\n",
      "        R2p(s) = (k + (k + m) * s - sqrt((lm * s + k) * (lp * s + k))) / 2 / k / (k + s)\n",
      "        R2ps = map(R2p, snrp)\n",
      "        \n",
      "        withfig(f) do\n",
      "            subplot(121)\n",
      "            plot(snr, R2s, \"ro\")\n",
      "            plot(snrp, R2ps, \"k\", linewidth=2)\n",
      "            plot(snrp, m / k * snrp, \"b--\")\n",
      "            plot(snrp, 1 - (k - k^2) / (m - k) ./ snrp, \"r--\")\n",
      "            plot(snrp, snrp ./ (k + snrp), \"k--\")\n",
      "            xlabel(\"SNR\"); ylim([0, 1]); ylabel(\"Performance\"); xscale(\"log\")\n",
      "            \n",
      "            subplot(122)\n",
      "            plot(snrs, R2s, \"ro\")\n",
      "            plot(snrps, R2ps, \"k\", linewidth=2)\n",
      "            plot(snrps, m / k * snrp, \"b--\")\n",
      "            plot(snrps, 1 - (k - k^2) / (m - k) ./ snrp, \"r--\")\n",
      "            xlabel(\"SNR_s\"); ylim([0, 1]); xscale(\"log\");\n",
      "        end\n",
      "    end\n",
      "end"
     ],
     "language": "python",
     "metadata": {},
     "outputs": [
      {
       "output_type": "stream",
       "stream": "stdout",
       "text": [
        "Red dot: simulation using matrix trace\n"
       ]
      },
      {
       "html": [],
       "metadata": {},
       "output_type": "display_data",
       "text": [
        "Slider{Float64}([Input{Float64}] 0.5,\"k\",0.5,0.01:0.01:1.0)"
       ]
      },
      {
       "html": [],
       "metadata": {},
       "output_type": "display_data",
       "text": [
        "Slider{Float64}([Input{Float64}] 0.5,\"m\",0.5,0.01:0.01:1.0)"
       ]
      },
      {
       "output_type": "stream",
       "stream": "stdout",
       "text": [
        "Black line: exact theory\n",
        "Blue/red dash: low and high SNR limiting behavior\n"
       ]
      },
      {
       "metadata": {
        "comm_id": "fbce3b0a-6672-4916-9e82-b126239538a2",
        "reactive": true
       },
       "output_type": "pyout",
       "png": "[encoded data removed]",
       "prompt_number": 5,
       "text": [
        "Figure(PyObject <matplotlib.figure.Figure object at 0x7f288f616950>)"
       ]
      }
     ],
     "prompt_number": 5
    },
    {
     "cell_type": "code",
     "collapsed": false,
     "input": [],
     "language": "python",
     "metadata": {},
     "outputs": []
    }
   ],
   "metadata": {}
  }
 ]
}