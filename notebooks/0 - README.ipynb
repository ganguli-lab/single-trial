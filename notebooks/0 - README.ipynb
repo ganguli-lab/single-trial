{
 "cells": [
  {
   "cell_type": "markdown",
   "metadata": {},
   "source": [
    "### Notebooks to reproduce figures in thesis"
   ]
  },
  {
   "cell_type": "markdown",
   "metadata": {},
   "source": [
    "#### Linear Receptive Field Model\n",
    "\n",
    "[Comparison of stimulus decoding using various decoder](Analysis - Linear Trained Decoder.ipynb)\n",
    "\n",
    "[M and P scalings of the trained decoders' performance](Analysis - Linear Trained Decoder - Scaling in M and P.ipynb)\n",
    "\n",
    "#### Gaussian Process Model\n",
    "\n",
    "[Make a kernel, generate tuning curves and look at the resulting manifolds](Analysis - GP Random Manifold Generation.ipynb)\n",
    "\n",
    "|                   | ML $\\theta$   | $\\cos\\theta$ |\n",
    "|-----------:|:-------------:|:------------:|\n",
    "| **Oracle** | [analysis](Analysis - GP Nonlinear Decoders.ipynb) | [analysis](Analysis - GP Linear Oracle Decoders.ipynb) |\n",
    "| **Projection**    | [analysis](Analysis - GP Nonlinear Oracle Projected Decoders.ipynb) | - |\n",
    "| **Finite Sample** | - | [analysis](Analysis - GP Linear Trained Decoders.ipynb) |\n",
    "\n",
    "#### Gaussian Process Poisson Model\n",
    "\n",
    "Analysis of the poisson spiking model is presented under its own heading."
   ]
  },
  {
   "cell_type": "code",
   "execution_count": null,
   "metadata": {
    "collapsed": true
   },
   "outputs": [],
   "source": []
  }
 ],
 "metadata": {
  "kernelspec": {
   "display_name": "Julia 0.4.0",
   "language": "julia",
   "name": "julia-0.4"
  },
  "language_info": {
   "file_extension": ".jl",
   "mimetype": "application/julia",
   "name": "julia",
   "version": "0.4.0"
  }
 },
 "nbformat": 4,
 "nbformat_minor": 0
}
