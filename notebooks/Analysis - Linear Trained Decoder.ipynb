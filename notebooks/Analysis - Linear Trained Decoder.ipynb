{
 "cells": [
  {
   "cell_type": "markdown",
   "metadata": {},
   "source": [
    "### Import relevant libraries"
   ]
  },
  {
   "cell_type": "code",
   "execution_count": 1,
   "metadata": {
    "collapsed": false
   },
   "outputs": [
    {
     "name": "stderr",
     "output_type": "stream",
     "text": [
      "WARNING: Method definition info(Any...) in module Base at util.jl:334 overwritten in module Logging at /home/prgao/.julia/v0.4/Logging/src/Logging.jl:61.\n",
      "WARNING: Method definition warn(Any...) in module Base at util.jl:364 overwritten in module Logging at /home/prgao/.julia/v0.4/Logging/src/Logging.jl:61.\n",
      "WARNING: replacing module Optim\n",
      "WARNING: replacing module Optim\n",
      "WARNING: replacing module Optim\n",
      "WARNING: replacing module Optim\n",
      "WARNING: replacing module Optim\n",
      "WARNING: replacing module Optim\n",
      "WARNING: replacing module Optim\n",
      "WARNING: replacing module Optim\n",
      "WARNING: replacing module Optim\n",
      "WARNING: replacing module Optim\n",
      "WARNING: replacing module Optim\n",
      "WARNING: replacing module Optim\n"
     ]
    }
   ],
   "source": [
    "# import the plotting library and logging library\n",
    "using PyPlot, Logging\n",
    "Logging.configure(filename=\"linear.log\", level=DEBUG)\n",
    "\n",
    "# start all the workers\n",
    "if length(workers()) > 1; rmprocs(workers()); end\n",
    "addprocs(12)\n",
    "# import the relevant libraries for each worker\n",
    "@everywhere using Optim, PyCall"
   ]
  },
  {
   "cell_type": "markdown",
   "metadata": {},
   "source": [
    "### Parameters of the simulations"
   ]
  },
  {
   "cell_type": "code",
   "execution_count": 2,
   "metadata": {
    "collapsed": false
   },
   "outputs": [],
   "source": [
    "# dimensionality of receptive field and # of neurons\n",
    "D, M = 4, 40\n",
    "# range of the # of training trials to simulate\n",
    "Ps = round(Int64, logspace(log10(D), log10(500), 10))\n",
    "# nose std with signal std fixed at 1\n",
    "σn = sqrt(1/2)\n",
    "# number of trials (sets of receptive fields) and # of test stimulus to decode in each trial\n",
    "ntrial, ntest = 10, 100;"
   ]
  },
  {
   "cell_type": "markdown",
   "metadata": {},
   "source": [
    "### Run  simulations"
   ]
  },
  {
   "cell_type": "code",
   "execution_count": 16,
   "metadata": {
    "collapsed": false
   },
   "outputs": [],
   "source": [
    "# shared arrays storing simulated decoding errors\n",
    "# oracle, linear optimal, linear regularized, ML, and MAP\n",
    "errs_oracle, errs_l_opt, errs_l_reg, errs_ml, errs_map =\n",
    "    [SharedArray(Float64, length(Ps), ntrial) for k in 1:5]\n",
    "\n",
    "for (ixP, P) in enumerate(Ps)\n",
    "    debug(\"ixP: $ixP\") # writes to the log file to track progress\n",
    "    @sync @parallel for ix in 1:ntrial\n",
    "        # random receptive fields\n",
    "        X = randn(M, D) / sqrt(D)\n",
    "        # training and testing stimuli\n",
    "        θtrains = qr(randn(D, P)')[1]' * sqrt(P)\n",
    "        θtest = randn(D, ntest)\n",
    "        # training and testing response\n",
    "        rtrains = X * θtrains + randn(M, P) * σn\n",
    "        rtest = X * θtest + randn(M, ntest) * σn\n",
    "        # covariance of response\n",
    "        Σ = θtrains * θtrains' + eye(D) * σn^2 * D\n",
    "        Σinv = inv(Σ)\n",
    "        # cross covariance between resp and stimu\n",
    "        Ρ = θtrains * rtrains'\n",
    "        \n",
    "        # oracle decoder\n",
    "        θ_oracle = inv(X' * X + σn^2 * eye(D)) * X' * rtest\n",
    "        \n",
    "        # optimal linear decoder\n",
    "        Xhat = (inv(Σ) * Ρ)'\n",
    "        θ_l_opt = inv(Xhat'* Xhat + σn^2 * (1 + trace(Σinv)) * eye(D)) * Xhat' * rtest\n",
    "                \n",
    "        # regularized linear decoder using sklearn\n",
    "        @pyimport sklearn.linear_model as lm\n",
    "        @pyimport sklearn.cross_validation as cv\n",
    "        model = lm.MultiTaskElasticNetCV(l1_ratio=1e-9,\n",
    "            alphas=logspace(-3, 3, 11),\n",
    "            cv=cv.ShuffleSplit(n=P, test_size=1, n_iter=10))\n",
    "        model[:fit](rtrains', θtrains')\n",
    "        θ_l_reg = model[:predict](rtest')'\n",
    "        \n",
    "        # posterior variance and mean as function of stimulus\n",
    "        σ2(θ) = σn^2 * (1 + (θ' * Σinv * θ)[1])\n",
    "        μ(θ) = vec((θ' * Σinv * θtrains * rtrains')[:])\n",
    "        # and their gradients\n",
    "        gσ2(θ) = 2 * σn^2 * Σinv * θ\n",
    "        gμ(θ) = Σinv * θtrains * rtrains'\n",
    "        # ML and MAP decoding\n",
    "        θ_ml, θ_map = zeros(D, ntest), zeros(D, ntest)\n",
    "        for ixtest in 1:ntest\n",
    "            # negative log likelihood function\n",
    "            nll(θ) = (sum((rtest[:, ixtest] - μ(θ)).^2) / σ2(θ) + M * log(σ2(θ))) / 2\n",
    "            # its gradient\n",
    "            function gnll!(θ, g::Vector)\n",
    "                g[:] = (M / σ2(θ) * gσ2(θ) - sum((rtest[:, ixtest] - μ(θ)).^2) / σ2(θ)^2 * gσ2(θ)\n",
    "                    - 2 * gμ(θ) * (rtest[:, ixtest] - μ(θ)) / σ2(θ))/2\n",
    "            end\n",
    "            # regularziated nll for MAP\n",
    "            reg_nll(θ) = nll(θ) + norm(θ)^2 / 2\n",
    "            # and its gradient\n",
    "            function greg_nll!(θ, g::Vector)\n",
    "                gnll!(θ, g)\n",
    "                g[:] = g[:] + θ\n",
    "            end\n",
    "            # decode\n",
    "            θ_ml[:, ixtest] = optimize(nll, gnll!, randn(D), method=:cg).minimum\n",
    "            θ_map[:, ixtest] = optimize(reg_nll, greg_nll!, randn(D), method=:cg).minimum\n",
    "        end\n",
    "        \n",
    "        # compute averaged error\n",
    "        errs_ml[ixP, ix] = sum((θ_ml - θtest).^2) / ntest\n",
    "        errs_map[ixP, ix] = sum((θ_map - θtest).^2) / ntest\n",
    "        errs_l_reg[ixP, ix] = sum((θ_l_reg - θtest).^2) / ntest\n",
    "        errs_l_opt[ixP, ix] = sum((θ_l_opt - θtest).^2) / ntest\n",
    "        errs_oracle[ixP, ix] = sum((θ_oracle - θtest).^2) / ntest\n",
    "    end\n",
    "end"
   ]
  },
  {
   "cell_type": "markdown",
   "metadata": {},
   "source": [
    "### Theoretical performances given simulation parameters"
   ]
  },
  {
   "cell_type": "code",
   "execution_count": 24,
   "metadata": {
    "collapsed": false
   },
   "outputs": [
    {
     "data": {
      "text/plain": [
       "r2_opt (generic function with 1 method)"
      ]
     },
     "execution_count": 24,
     "metadata": {},
     "output_type": "execute_result"
    }
   ],
   "source": [
    "# complicated polinomial in the performance expression after integrating over MP distribution\n",
    "function f(P)\n",
    "    p, m = P / D, M / D\n",
    "    snr = 1 / σn^2\n",
    "    rst = (m - 1)^2 * p^2 * snr^4 + 2 * p * (1 + p) * (1 + m) * snr^3\n",
    "    rst += (1 + 4 * p + 2 * m * p + p^2) * snr^2 + 2 * (1 + p) * snr + 1\n",
    "end\n",
    "\n",
    "# optimal linear decoder's performance\n",
    "function r2_opt(P)\n",
    "    p, m = P / D, M / D\n",
    "    snr = 1 / σn^2\n",
    "    rst = (m - 1) * p * snr^2 + sqrt(f(P))\n",
    "    rst = rst / (1 + (1 + p) * snr) + 1\n",
    "    return 1 - 2 / rst\n",
    "end"
   ]
  },
  {
   "cell_type": "markdown",
   "metadata": {},
   "source": [
    "### Plot the simulation results"
   ]
  },
  {
   "cell_type": "code",
   "execution_count": 23,
   "metadata": {
    "collapsed": false
   },
   "outputs": [
    {
     "data": {
      "image/png": "[encoded data removed]",
      "text/plain": [
       "PyPlot.Figure(PyObject <matplotlib.figure.Figure object at 0x7f8e094404e0>)"
      ]
     },
     "metadata": {},
     "output_type": "display_data"
    }
   ],
   "source": [
    "# sufficient number of trials\n",
    "Pstar = 10 * D * (1 + σn^2)\n",
    "# optimal linear decoder's theoretical performance\n",
    "r2_theory = 1 - map(r2_opt, logspace(-1.5, 1.5, 100) * Pstar)\n",
    "# performance in the inifinite data limit\n",
    "r2_inf_P = 1 - (1 + σn^2 + M/D - sqrt((1 + σn^2 - M/D)^2 + 4*M/D*σn^2)) / 2\n",
    "\n",
    "figure(figsize=(4, 3))\n",
    "\n",
    "# mean simulated decodeing errors for each case\n",
    "plot(Ps/Pstar, mean(errs_ml, 2) / D, \"o\", markeredgecolor=\"r\", markerfacecolor=\"None\", markeredgewidth=1)\n",
    "plot(Ps/Pstar, mean(errs_map, 2) / D, \"^\", markeredgecolor=\"b\", markerfacecolor=\"None\", markeredgewidth=1)\n",
    "plot(Ps/Pstar, mean(errs_l_opt, 2) / D, \"ys\", markeredgecolor=\"y\", markerfacecolor=\"None\", markeredgewidth=1)\n",
    "plot(Ps/Pstar, mean(errs_l_reg, 2) / D, \"cx\", markeredgecolor=\"g\", markerfacecolor=\"None\", markeredgewidth=1)\n",
    "# theoretical prediction of optimal linear decoder\n",
    "plot(Pss/Pstar, r2_theory, \"k-\", linewidth=2)\n",
    "# infinite data limit\n",
    "PyPlot.axhline(r2_inf_P, linestyle=\"--\", color=\"k\")\n",
    "# transition at P / P* = 1\n",
    "PyPlot.axvline(1, linestyle=\"--\", color=\"r\")\n",
    "\n",
    "ylim([0, 0.2]); xscale(\"log\")\n",
    "xlabel(\"P / P*\"); ylabel(\"Decoding R2\")\n",
    "tight_layout()\n",
    "\n",
    "savefig(\"M.$(M).snr.$(1/σn^2).eps\")"
   ]
  }
 ],
 "metadata": {
  "kernelspec": {
   "display_name": "Julia 0.4.0",
   "language": "julia",
   "name": "julia-0.4"
  },
  "language_info": {
   "file_extension": ".jl",
   "mimetype": "application/julia",
   "name": "julia",
   "version": "0.4.0"
  }
 },
 "nbformat": 4,
 "nbformat_minor": 0
}
