{
 "cells": [
  {
   "cell_type": "code",
   "execution_count": 1,
   "metadata": {
    "collapsed": false
   },
   "outputs": [
    {
     "data": {
      "text/html": [
       "<script charset=\"utf-8\">(function ($, undefined) {\n",
       "\n",
       "    function createElem(tag, attr, content) {\n",
       "\t// TODO: remove jQuery dependency\n",
       "\tvar el = $(\"<\" + tag + \"/>\").attr(attr);\n",
       "\tif (content) {\n",
       "\t    el.append(content);\n",
       "\t}\n",
       "\treturn el[0];\n",
       "    }\n",
       "\n",
       "    // A widget must expose an id field which identifies it to the backend,\n",
       "    // an elem attribute which is will be added to the DOM, and\n",
       "    // a getState() method which returns the value to be sent to the backend\n",
       "    // a sendUpdate() method which sends its current value to the backend\n",
       "    var Widget = {\n",
       "\tid: undefined,\n",
       "\telem: undefined,\n",
       "\tlabel: undefined,\n",
       "\tgetState: function () {\n",
       "\t    return this.elem.value;\n",
       "\t},\n",
       "\tsendUpdate: undefined\n",
       "    };\n",
       "\n",
       "    var Slider = function (typ, id, init) {\n",
       "\tvar attr = { type:  \"range\",\n",
       "\t\t     value: init.value,\n",
       "\t\t     min:   init.min,\n",
       "\t\t     max:   init.max,\n",
       "\t\t     step:  init.step },\n",
       "\t    elem = createElem(\"input\", attr),\n",
       "\t    self = this;\n",
       "\n",
       "\telem.onchange = function () {\n",
       "\t    self.sendUpdate();\n",
       "\t}\n",
       "\n",
       "\tthis.id = id;\n",
       "\tthis.elem = elem;\n",
       "\tthis.label = init.label;\n",
       "\n",
       "\tInputWidgets.commInitializer(this); // Initialize communication\n",
       "    }\n",
       "    Slider.prototype = Widget;\n",
       "\n",
       "    var Checkbox = function (typ, id, init) {\n",
       "\tvar attr = { type: \"checkbox\",\n",
       "\t\t     checked: init.value },\n",
       "\t    elem = createElem(\"input\", attr),\n",
       "\t    self = this;\n",
       "\n",
       "\tthis.getState = function () {\n",
       "\t    return elem.checked;\n",
       "\t}\n",
       "\telem.onchange = function () {\n",
       "\t    self.sendUpdate();\n",
       "\t}\n",
       "\n",
       "\tthis.id = id;\n",
       "\tthis.elem = elem;\n",
       "\tthis.label = init.label;\n",
       "\n",
       "\tInputWidgets.commInitializer(this);\n",
       "    }\n",
       "    Checkbox.prototype = Widget;\n",
       "\n",
       "    var Button = function (typ, id, init) {\n",
       "\tvar attr = { type:    \"button\",\n",
       "\t\t     value:   init.label },\n",
       "\t    elem = createElem(\"input\", attr),\n",
       "\t    self = this;\n",
       "\tthis.getState = function () {\n",
       "\t    return null;\n",
       "\t}\n",
       "\telem.onclick = function () {\n",
       "\t    self.sendUpdate();\n",
       "\t}\n",
       "\n",
       "\tthis.id = id;\n",
       "\tthis.elem = elem;\n",
       "\tthis.label = init.label;\n",
       "\n",
       "\tInputWidgets.commInitializer(this);\n",
       "    }\n",
       "    Button.prototype = Widget;\n",
       "\n",
       "    var Text = function (typ, id, init) {\n",
       "\tvar attr = { type:  \"text\",\n",
       "\t\t     placeholder: init.label,\n",
       "\t\t     value: init.value },\n",
       "\t    elem = createElem(\"input\", attr),\n",
       "\t    self = this;\n",
       "\tthis.getState = function () {\n",
       "\t    return elem.value;\n",
       "\t}\n",
       "\telem.onkeyup = function () {\n",
       "\t    self.sendUpdate();\n",
       "\t}\n",
       "\n",
       "\tthis.id = id;\n",
       "\tthis.elem = elem;\n",
       "\tthis.label = init.label;\n",
       "\n",
       "\tInputWidgets.commInitializer(this);\n",
       "    }\n",
       "    Text.prototype = Widget;\n",
       "\n",
       "    var Textarea = function (typ, id, init) {\n",
       "\tvar attr = { placeholder: init.label },\n",
       "\t    elem = createElem(\"textarea\", attr, init.value),\n",
       "\t    self = this;\n",
       "\tthis.getState = function () {\n",
       "\t    return elem.value;\n",
       "\t}\n",
       "\telem.onchange = function () {\n",
       "\t    self.sendUpdate();\n",
       "\t}\n",
       "\n",
       "\tthis.id = id;\n",
       "\tthis.elem = elem;\n",
       "\tthis.label = init.label;\n",
       "\n",
       "\tInputWidgets.commInitializer(this);\n",
       "    }\n",
       "    Textarea.prototype = Widget;\n",
       "\n",
       "    // RadioButtons\n",
       "    // Dropdown\n",
       "    // HTML\n",
       "    // Latex\n",
       "\n",
       "    var InputWidgets = {\n",
       "\tSlider: Slider,\n",
       "\tCheckbox: Checkbox,\n",
       "\tButton: Button,\n",
       "\tText: Text,\n",
       "\tTextarea: Textarea,\n",
       "\tdebug: false,\n",
       "\tlog: function () {\n",
       "\t    if (InputWidgets.debug) {\n",
       "\t\tconsole.log.apply(console, arguments);\n",
       "\t    }\n",
       "\t},\n",
       "\t// a central way to initalize communication\n",
       "\t// for widgets.\n",
       "\tcommInitializer: function (widget) {\n",
       "\t    widget.sendUpdate = function () {};\n",
       "\t}\n",
       "    };\n",
       "\n",
       "    window.InputWidgets = InputWidgets;\n",
       "\n",
       "})(jQuery, undefined);\n",
       "</script>"
      ]
     },
     "metadata": {},
     "output_type": "display_data"
    },
    {
     "name": "stderr",
     "output_type": "stream",
     "text": [
      "INFO: Loading help data...\n"
     ]
    },
    {
     "data": {
      "text/html": [
       "<script charset=\"utf-8\">(function (IPython, $, _, MathJax, Widgets) {\n",
       "    $.event.special.destroyed = {\n",
       "\tremove: function(o) {\n",
       "\t    if (o.handler) {\n",
       "\t\to.handler.apply(this, arguments)\n",
       "\t    }\n",
       "\t}\n",
       "    }\n",
       "\n",
       "    var redrawValue = function (container, type, val) {\n",
       "\tvar selector = $(\"<div/>\");\n",
       "\tvar oa = new IPython.OutputArea(_.extend(selector, {\n",
       "\t    selector: selector,\n",
       "\t    prompt_area: true,\n",
       "\t    events: IPython.events,\n",
       "\t    keyboard_manager: IPython.keyboard_manager\n",
       "\t})); // Hack to work with IPython 2.1.0\n",
       "\n",
       "\tswitch (type) {\n",
       "\tcase \"image/png\":\n",
       "            var _src = 'data:' + type + ';base64,' + val;\n",
       "\t    $(container).find(\"img\").attr('src', _src);\n",
       "\t    break;\n",
       "\tdefault:\n",
       "\t    var toinsert = IPython.OutputArea.append_map[type].apply(\n",
       "\t\toa, [val, {}, selector]\n",
       "\t    );\n",
       "\t    $(container).empty().append(toinsert.contents());\n",
       "\t    selector.remove();\n",
       "\t}\n",
       "\tif (type === \"text/latex\" && MathJax) {\n",
       "\t    MathJax.Hub.Queue([\"Typeset\", MathJax.Hub, toinsert.get(0)]);\n",
       "\t}\n",
       "    }\n",
       "\n",
       "\n",
       "    $(document).ready(function() {\n",
       "\tWidgets.debug = false; // log messages etc in console.\n",
       "\tfunction initComm(evt, data) {\n",
       "\t    var comm_manager = data.kernel.comm_manager;\n",
       "        //_.extend(comm_manager.targets, require(\"widgets/js/widget\"))\n",
       "\t    comm_manager.register_target(\"Signal\", function (comm) {\n",
       "            comm.on_msg(function (msg) {\n",
       "                //Widgets.log(\"message received\", msg);\n",
       "                var val = msg.content.data.value;\n",
       "                $(\".signal-\" + comm.comm_id).each(function() {\n",
       "                var type = $(this).data(\"type\");\n",
       "                if (val[type]) {\n",
       "                    redrawValue(this, type, val[type], type);\n",
       "                }\n",
       "                });\n",
       "                delete val;\n",
       "                delete msg.content.data.value;\n",
       "            });\n",
       "\t    });\n",
       "\n",
       "\t    // coordingate with Comm and redraw Signals\n",
       "\t    // XXX: Test using Reactive here to improve performance\n",
       "\t    $([IPython.events]).on(\n",
       "\t\t'output_appended.OutputArea', function (event, type, value, md, toinsert) {\n",
       "\t\t    if (md && md.reactive) {\n",
       "                // console.log(md.comm_id);\n",
       "                toinsert.addClass(\"signal-\" + md.comm_id);\n",
       "                toinsert.data(\"type\", type);\n",
       "                // Signal back indicating the mimetype required\n",
       "                var comm_manager = IPython.notebook.kernel.comm_manager;\n",
       "                var comm = comm_manager.comms[md.comm_id];\n",
       "                comm.then(function (c) {\n",
       "                    c.send({action: \"subscribe_mime\",\n",
       "                       mime: type});\n",
       "                    toinsert.bind(\"destroyed\", function() {\n",
       "                        c.send({action: \"unsubscribe_mime\",\n",
       "                               mime: type});\n",
       "                    });\n",
       "                })\n",
       "\t\t    }\n",
       "\t    });\n",
       "\t}\n",
       "\n",
       "\ttry {\n",
       "\t    // try to initialize right away. otherwise, wait on the status_started event.\n",
       "\t    initComm(undefined, IPython.notebook);\n",
       "\t} catch (e) {\n",
       "\t    $([IPython.events]).on('status_started.Kernel', initComm);\n",
       "\t}\n",
       "    });\n",
       "})(IPython, jQuery, _, MathJax, InputWidgets);\n",
       "</script>"
      ]
     },
     "metadata": {},
     "output_type": "display_data"
    }
   ],
   "source": [
    "using PyPlot, Interact\n",
    "\n",
    "push!(LOAD_PATH, \"../src/\")\n",
    "using HDStat"
   ]
  },
  {
   "cell_type": "markdown",
   "metadata": {},
   "source": [
    "### Numerical verification of AR-MP distribution"
   ]
  },
  {
   "cell_type": "code",
   "execution_count": 5,
   "metadata": {
    "collapsed": false
   },
   "outputs": [
    {
     "data": {
      "text/html": [],
      "text/plain": [
       "Options{:ToggleButtons,Int64}([Input{Int64}] 1000,\"n\",1000,\"1000\",OptionDict({\"1000\",\"2000\",\"5000\"},{\"1000\"=>1000,\"2000\"=>2000,\"5000\"=>5000}))"
      ]
     },
     "metadata": {},
     "output_type": "display_data"
    },
    {
     "data": {
      "text/html": [],
      "text/plain": [
       "Slider{Int64}([Input{Int64}] 2550,\"p\",2550,100:5000)"
      ]
     },
     "metadata": {},
     "output_type": "display_data"
    },
    {
     "data": {
      "text/html": [],
      "text/plain": [
       "Slider{Float64}([Input{Float64}] 0.5,\"ϕ\",0.5,0.02:0.02:0.98)"
      ]
     },
     "metadata": {},
     "output_type": "display_data"
    },
    {
     "ename": "LoadError",
     "evalue": "PyError (:PyObject_Call) <class 'ValueError'>\nValueError('Axes instance argument was not found in a figure.',)\n  File \"/home/prgao/anaconda3/lib/python3.4/site-packages/matplotlib/pyplot.py\", line 807, in sca\n    raise ValueError(\"Axes instance argument was not found in a figure.\")\n\nwhile loading In[5], in expression starting on line 4",
     "output_type": "error",
     "traceback": [
      "PyError (:PyObject_Call) <class 'ValueError'>\nValueError('Axes instance argument was not found in a figure.',)\n  File \"/home/prgao/anaconda3/lib/python3.4/site-packages/matplotlib/pyplot.py\", line 807, in sca\n    raise ValueError(\"Axes instance argument was not found in a figure.\")\n\nwhile loading In[5], in expression starting on line 4",
      "",
      " in pyerr_check at /home/prgao/.julia/v0.3/PyCall/src/exception.jl:58",
      " in pycall at /home/prgao/.julia/v0.3/PyCall/src/PyCall.jl:91",
      " in sca at /home/prgao/.julia/v0.3/PyPlot/src/PyPlot.jl:455",
      " in withfig at /home/prgao/.julia/v0.3/PyPlot/src/PyPlot.jl:639",
      " in anonymous at no file:15",
      " in consume at /home/prgao/.julia/v0.3/Reactive/src/Reactive.jl:359",
      " in lift at /home/prgao/.julia/v0.3/Reactive/src/Reactive.jl:362"
     ]
    }
   ],
   "source": [
    "f = figure(figsize=(8, 3))\n",
    "σ = 1.0\n",
    "\n",
    "@manipulate for n = [1000, 2000, 5000], p = 100:5000, ϕ = 0.02:0.02:0.98\n",
    "    m = ARMPModel(n, p, ϕ, σ)\n",
    "        \n",
    "    Ss = sv_rand(m)\n",
    "    Su, Sl = sv_ub(m), sv_lb(m)\n",
    "        \n",
    "    Es = ev_rand(m)\n",
    "    Eu, El = ev_ub(m), ev_lb(m)\n",
    "        \n",
    "    svspec, evspec = sv_spec(m), ev_spec(m)\n",
    "        \n",
    "    withfig(f) do\n",
    "        x = ev_linsupport(m, 51)[2:end - 1]\n",
    "        y = map(evspec, x)\n",
    "        subplot(121)\n",
    "        plt.hist(Es, normed=true, histtype=\"step\", bins=40)\n",
    "        plot(x, y, \"r--\", linewidth=2)\n",
    "        axvline(El, linewidth=2, color=\"k\", linestyle=\"--\")\n",
    "        axvline(Eu, linewidth=2, color=\"k\", linestyle=\"--\")\n",
    "        xticks([El, Eu]); yticks([minimum(y), maximum(y)]); ylim([0, maximum(y) * 1.2]); title(\"Eigenvalue Spectrum\")\n",
    "            \n",
    "        x = sv_linsupport(m, 51)[2:end - 1]\n",
    "        y = map(svspec, x)\n",
    "        subplot(122)\n",
    "        plt.hist(Ss, normed=true, histtype=\"step\", bins=40)\n",
    "        plot(x, y, \"r--\", linewidth=2)\n",
    "        axvline(Sl, linewidth=2, color=\"k\", linestyle=\"--\")\n",
    "        axvline(Su, linewidth=2, color=\"k\", linestyle=\"--\")\n",
    "        xticks([Sl, Su]); yticks([minimum(y), maximum(y)]); ylim([0, maximum(y) * 1.2]); title(\"Singular Value Spectrum\")\n",
    "        \n",
    "        tight_layout()\n",
    "    end\n",
    "end"
   ]
  },
  {
   "cell_type": "code",
   "execution_count": null,
   "metadata": {
    "collapsed": false
   },
   "outputs": [
    {
     "data": {
      "text/html": [],
      "text/plain": [
       "Options{:ToggleButtons,Int64}([Input{Int64}] 500,\"n\",500,\"500\",OptionDict({\"500\",\"1000\",\"2000\"},{\"1000\"=>1000,\"2000\"=>2000,\"500\"=>500}))"
      ]
     },
     "metadata": {},
     "output_type": "display_data"
    },
    {
     "data": {
      "text/html": [],
      "text/plain": [
       "Slider{Int64}([Input{Int64}] 2550,\"p\",2550,100:5000)"
      ]
     },
     "metadata": {},
     "output_type": "display_data"
    },
    {
     "data": {
      "text/html": [],
      "text/plain": [
       "Slider{Int64}([Input{Int64}] 3,\"k\",3,1:5)"
      ]
     },
     "metadata": {},
     "output_type": "display_data"
    },
    {
     "data": {
      "text/html": [],
      "text/plain": [
       "Slider{Float64}([Input{Float64}] 0.5,\"ϕ\",0.5,0.02:0.02:0.98)"
      ]
     },
     "metadata": {},
     "output_type": "display_data"
    }
   ],
   "source": [
    "g = figure(figsize=(8, 3))\n",
    "npt, σ = 20, 1.0\n",
    "\n",
    "# cca(U, V) = sum(svd(U' * V)[2]) / size(U, 2)\n",
    "\n",
    "@manipulate for n in [500, 1000, 2000], p = 100:5000, k = 1:5, ϕ = 0.02:0.02:0.98\n",
    "    m = ARMPModel(n, p, ϕ, σ)\n",
    "    \n",
    "    sthresh = sv_infloor(m)\n",
    "    ethresh = ev_infloor(m)\n",
    "    sv_out = zeros(npt, k)\n",
    "    ev_out = zeros(npt, k)\n",
    "    sv_in = linspace(0, sthresh * 2, npt)\n",
    "    for (ksv, sv) in enumerate(sv_in)\n",
    "        U, V = qr(randn(n, k))[1], qr(randn(p, k))[1]\n",
    "        X = rand(m) + sv * U * V'\n",
    "        ev_out[ksv, :] = eigs(X * X'; nev=k)[1]\n",
    "        sv_out[ksv, :] = sqrt(ev_out[ksv, :])\n",
    "    end\n",
    "    \n",
    "#     sv_out_theory = map(x -> sv_xfer(m, x), sv_in)\n",
    "#     ev_out_theory = map(x -> ev_xfer(m, x), sv_in.^2)\n",
    "    \n",
    "    withfig(g) do\n",
    "        subplot(121)\n",
    "        plot(sv_in, sv_out, \".\")\n",
    "#         plot(sv_in, sv_out_theory, \"k-\", linewidth=2)\n",
    "        axvline(sthresh, color=\"r\", linestyle=\"--\", linewidth=2)\n",
    "#         axhline(sv_xfer(m, sthresh), color=\"r\", linestyle=\"--\", linewidth=2)\n",
    "        title(\"Singular Value Phase Transition\")\n",
    "        \n",
    "        subplot(122)\n",
    "        plot(sv_in.^2, ev_out, \".\")\n",
    "        axvline(ethresh, color=\"r\", linestyle=\"--\", linewidth=2)\n",
    "        title(\"Eigenvalue Phase Transition\")\n",
    "#         subplot(222)\n",
    "#         plot(sv_in.^2, ev_out, \".\")\n",
    "#         plot(sv_in.^2, ev_out_theory, \"k-\", linewidth=2)\n",
    "#         axvline(sthresh^2, color=\"r\", linestyle=\"--\", linewidth=2)\n",
    "#         axhline(sv_xfer(m, sthresh)^2, color=\"r\", linestyle=\"--\", linewidth=2)\n",
    "#         title(\"Eigenvalue Phase Transition\")\n",
    "#         subplot(223)\n",
    "#         plot(sv_in, left, \".\")\n",
    "#         plot(sv_in, left_theory, \"r--\", linewidth=2)\n",
    "#         yticks([0, 1]); title(\"Left Singular Vector Overlap\")\n",
    "#         subplot(224)\n",
    "#         plot(sv_in, right, \".\")\n",
    "#         plot(sv_in, right_theory, \"r--\", linewidth=2)\n",
    "#         yticks([0, 1]); title(\"Right Singular Vector Overlap\")\n",
    "        tight_layout()\n",
    "    end\n",
    "end"
   ]
  },
  {
   "cell_type": "markdown",
   "metadata": {},
   "source": [
    "### Limiting behavior (T / tau -> 0, N / T = c) of AR-MP compared against MP only\n",
    "\n",
    "Comparison of the Marchenko-Pastur model and the AR MP model. For the AR model, we have $\\phi = 1 - 1 / \\tau$. For the MP model, we have $\\sigma^2 = 1 / (1 - \\phi^2)$. Maintaining the same aspect ratio ($p / n$) for the AR model, we ask what is the equivalent number of columns ($\\alpha n$) in an MP model for the spectra of the two models to be similar?"
   ]
  },
  {
   "cell_type": "code",
   "execution_count": 53,
   "metadata": {
    "collapsed": false
   },
   "outputs": [
    {
     "name": "stdout",
     "output_type": "stream",
     "text": [
      "tau: 0.5\n",
      "phi: 0.1353352832366127\n",
      "sigma: 1.0092855692834284\n",
      "c: 0.4\n"
     ]
    }
   ],
   "source": [
    "tau = 0.5; phi = exp(-1.0 / tau)\n",
    "sigma = 1 / sqrt(1 - phi^2)\n",
    "c = 0.4;\n",
    "println(\"tau: \", tau)\n",
    "println(\"phi: \", phi)\n",
    "println(\"sigma: \", sigma)\n",
    "println(\"c: \", c)"
   ]
  },
  {
   "cell_type": "code",
   "execution_count": 54,
   "metadata": {
    "collapsed": false
   },
   "outputs": [
    {
     "data": {
      "text/plain": [
       "MPModel(200,500,0.4,1)"
      ]
     },
     "execution_count": 54,
     "metadata": {},
     "output_type": "execute_result"
    }
   ],
   "source": [
    "n = 500; p = int(c * n);\n",
    "nTrial = 2; nBin = 41;\n",
    "\n",
    "armp_model = ARMPModel(p, n, phi, 1/sigma)\n",
    "mp_model = MPModel(p, n, 1)"
   ]
  },
  {
   "cell_type": "code",
   "execution_count": 56,
   "metadata": {
    "collapsed": false
   },
   "outputs": [
    {
     "data": {
      "text/plain": [
       "200"
      ]
     },
     "execution_count": 56,
     "metadata": {},
     "output_type": "execute_result"
    }
   ],
   "source": [
    "p"
   ]
  },
  {
   "cell_type": "code",
   "execution_count": 55,
   "metadata": {
    "collapsed": false
   },
   "outputs": [
    {
     "data": {
      "image/png": "[encoded data removed]",
      "text/plain": [
       "Figure(PyObject <matplotlib.figure.Figure object at 0x7fc914b0b5f8>)"
      ]
     },
     "metadata": {},
     "output_type": "display_data"
    }
   ],
   "source": [
    "figure(figsize=(3, 2.5))\n",
    "\n",
    "armpSpecSupport = ev_logsupport(armp_model, 101)\n",
    "armpPDF = map(ev_spec(armp_model), armpSpecSupport)\n",
    "Es = sv_rand(armp_model).^2\n",
    "plt[:hist](Es / p, normed=true, histtype=\"step\", bins=40, color=\"red\")\n",
    "plot(armpSpecSupport / p, armpPDF * p, \"r\")\n",
    "PyPlot.axvline(maximum(armpSpecSupport) / p, linestyle=\"--\", color=\"r\")\n",
    "\n",
    "mpSpecSupport = ev_logsupport(mp_model, 101)\n",
    "mpPDF = map(ev_spec(mp_model), mpSpecSupport)\n",
    "Es = sv_rand(mp_model).^2\n",
    "plt[:hist](Es / p, normed=true, histtype=\"step\", bins=40, color=\"blue\")\n",
    "PyPlot.axvline(maximum(mpSpecSupport) / p, linestyle=\"--\", color=\"b\")\n",
    "plot(mpSpecSupport / p, mpPDF * p, \"b\")\n",
    "\n",
    "xlabel(\"Eigen Values\"); ylabel(\"Density\")\n",
    "# yscale(\"log\")\n",
    "# yticks([])\n",
    "# legend([\"Correlated noise\", \"Uncorrelated noise\"])\n",
    "\n",
    "# ylim([0, 1.1*max(maximum(mpPDF), maximum(armpPDF))])\n",
    "\n",
    "tight_layout()\n",
    "\n",
    "savefig(\"noise.$tau.eps\")"
   ]
  },
  {
   "cell_type": "code",
   "execution_count": null,
   "metadata": {
    "collapsed": false
   },
   "outputs": [],
   "source": [
    "using Optim\n",
    "\n",
    "nN = 5\n",
    "Ns = logspace(2, 8, nN)\n",
    "Ps = c * Ns\n",
    "aUpper = zeros(nN)\n",
    "aLower = zeros(nN)\n",
    "\n",
    "for (kN, (n, p)) in enumerate(zip(Ns, Ps))\n",
    "    armpModel = ARMPModel(int(p), int(n), phi, 1)\n",
    "    armpLb, armpUp = ev_lb(armpModel), ev_ub(armpModel)\n",
    "    \n",
    "    eqLb(a) = (ev_lb(MPModel(int(p), int(a * n / tau), sigma)) - armpLb)^2\n",
    "    eqUp(a) = (ev_ub(MPModel(int(p), int(a * n / tau), sigma)) - armpUp)^2\n",
    "    \n",
    "    aUpper[kN] = optimize(eqUp, 0.1, 500.0).minimum\n",
    "    aLower[kN] = optimize(eqLb, 0.1, 500.0).minimum\n",
    "end"
   ]
  },
  {
   "cell_type": "code",
   "execution_count": null,
   "metadata": {
    "collapsed": false
   },
   "outputs": [],
   "source": [
    "println(\"upper: \", aUpper[end])\n",
    "println(\"lower: \", aLower[end])\n",
    "plot(Ns, aUpper)\n",
    "plot(Ns, aLower)\n",
    "xscale(\"log\")"
   ]
  },
  {
   "cell_type": "markdown",
   "metadata": {},
   "source": [
    "### Recovering low-dim dynamics\n",
    "\n",
    "Fix $K, P / N$, take the limit $P, N \\to \\infty$. Where is the theoretically predicted gap? How does it related to the error in recovered eigenvalues?"
   ]
  }
 ],
 "metadata": {
  "kernelspec": {
   "display_name": "Julia 0.3.11",
   "language": "julia",
   "name": "julia-0.3"
  },
  "language_info": {
   "file_extension": ".jl",
   "mimetype": "application/julia",
   "name": "julia",
   "version": "0.3.11"
  }
 },
 "nbformat": 4,
 "nbformat_minor": 0
}
