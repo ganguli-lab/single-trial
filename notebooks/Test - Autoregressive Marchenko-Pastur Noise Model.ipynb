{
 "metadata": {
  "language": "Julia",
  "name": "",
  "signature": "sha256:e0146cfcfc498b37456a9a10f5796160cb49ffbb4c669121938215f628c58b19"
 },
 "nbformat": 3,
 "nbformat_minor": 0,
 "worksheets": [
  {
   "cells": [
    {
     "cell_type": "code",
     "collapsed": false,
     "input": [
      "using PyPlot, Interact\n",
      "\n",
      "push!(LOAD_PATH, \"../src/\")\n",
      "using HDStat"
     ],
     "language": "python",
     "metadata": {},
     "outputs": [
      {
       "html": [
        "<script charset=\"utf-8\">(function ($, undefined) {\n",
        "\n",
        "    function createElem(tag, attr, content) {\n",
        "\t// TODO: remove jQuery dependency\n",
        "\tvar el = $(\"<\" + tag + \"/>\").attr(attr);\n",
        "\tif (content) {\n",
        "\t    el.append(content);\n",
        "\t}\n",
        "\treturn el[0];\n",
        "    }\n",
        "\n",
        "    // A widget must expose an id field which identifies it to the backend,\n",
        "    // an elem attribute which is will be added to the DOM, and\n",
        "    // a getState() method which returns the value to be sent to the backend\n",
        "    // a sendUpdate() method which sends its current value to the backend\n",
        "    var Widget = {\n",
        "\tid: undefined,\n",
        "\telem: undefined,\n",
        "\tlabel: undefined,\n",
        "\tgetState: function () {\n",
        "\t    return this.elem.value;\n",
        "\t},\n",
        "\tsendUpdate: undefined\n",
        "    };\n",
        "\n",
        "    var Slider = function (typ, id, init) {\n",
        "\tvar attr = { type:  \"range\",\n",
        "\t\t     value: init.value,\n",
        "\t\t     min:   init.min,\n",
        "\t\t     max:   init.max,\n",
        "\t\t     step:  init.step },\n",
        "\t    elem = createElem(\"input\", attr),\n",
        "\t    self = this;\n",
        "\n",
        "\telem.onchange = function () {\n",
        "\t    self.sendUpdate();\n",
        "\t}\n",
        "\n",
        "\tthis.id = id;\n",
        "\tthis.elem = elem;\n",
        "\tthis.label = init.label;\n",
        "\n",
        "\tInputWidgets.commInitializer(this); // Initialize communication\n",
        "    }\n",
        "    Slider.prototype = Widget;\n",
        "\n",
        "    var Checkbox = function (typ, id, init) {\n",
        "\tvar attr = { type: \"checkbox\",\n",
        "\t\t     checked: init.value },\n",
        "\t    elem = createElem(\"input\", attr),\n",
        "\t    self = this;\n",
        "\n",
        "\tthis.getState = function () {\n",
        "\t    return elem.checked;\n",
        "\t}\n",
        "\telem.onchange = function () {\n",
        "\t    self.sendUpdate();\n",
        "\t}\n",
        "\n",
        "\tthis.id = id;\n",
        "\tthis.elem = elem;\n",
        "\tthis.label = init.label;\n",
        "\n",
        "\tInputWidgets.commInitializer(this);\n",
        "    }\n",
        "    Checkbox.prototype = Widget;\n",
        "\n",
        "    var Button = function (typ, id, init) {\n",
        "\tvar attr = { type:    \"button\",\n",
        "\t\t     value:   init.label },\n",
        "\t    elem = createElem(\"input\", attr),\n",
        "\t    self = this;\n",
        "\tthis.getState = function () {\n",
        "\t    return null;\n",
        "\t}\n",
        "\telem.onclick = function () {\n",
        "\t    self.sendUpdate();\n",
        "\t}\n",
        "\n",
        "\tthis.id = id;\n",
        "\tthis.elem = elem;\n",
        "\tthis.label = init.label;\n",
        "\n",
        "\tInputWidgets.commInitializer(this);\n",
        "    }\n",
        "    Button.prototype = Widget;\n",
        "\n",
        "    var Text = function (typ, id, init) {\n",
        "\tvar attr = { type:  \"text\",\n",
        "\t\t     placeholder: init.label,\n",
        "\t\t     value: init.value },\n",
        "\t    elem = createElem(\"input\", attr),\n",
        "\t    self = this;\n",
        "\tthis.getState = function () {\n",
        "\t    return elem.value;\n",
        "\t}\n",
        "\telem.onkeyup = function () {\n",
        "\t    self.sendUpdate();\n",
        "\t}\n",
        "\n",
        "\tthis.id = id;\n",
        "\tthis.elem = elem;\n",
        "\tthis.label = init.label;\n",
        "\n",
        "\tInputWidgets.commInitializer(this);\n",
        "    }\n",
        "    Text.prototype = Widget;\n",
        "\n",
        "    var Textarea = function (typ, id, init) {\n",
        "\tvar attr = { placeholder: init.label },\n",
        "\t    elem = createElem(\"textarea\", attr, init.value),\n",
        "\t    self = this;\n",
        "\tthis.getState = function () {\n",
        "\t    return elem.value;\n",
        "\t}\n",
        "\telem.onchange = function () {\n",
        "\t    self.sendUpdate();\n",
        "\t}\n",
        "\n",
        "\tthis.id = id;\n",
        "\tthis.elem = elem;\n",
        "\tthis.label = init.label;\n",
        "\n",
        "\tInputWidgets.commInitializer(this);\n",
        "    }\n",
        "    Textarea.prototype = Widget;\n",
        "\n",
        "    // RadioButtons\n",
        "    // Dropdown\n",
        "    // HTML\n",
        "    // Latex\n",
        "\n",
        "    var InputWidgets = {\n",
        "\tSlider: Slider,\n",
        "\tCheckbox: Checkbox,\n",
        "\tButton: Button,\n",
        "\tText: Text,\n",
        "\tTextarea: Textarea,\n",
        "\tdebug: false,\n",
        "\tlog: function () {\n",
        "\t    if (InputWidgets.debug) {\n",
        "\t\tconsole.log.apply(console, arguments);\n",
        "\t    }\n",
        "\t},\n",
        "\t// a central way to initalize communication\n",
        "\t// for widgets.\n",
        "\tcommInitializer: function (widget) {\n",
        "\t    widget.sendUpdate = function () {};\n",
        "\t}\n",
        "    };\n",
        "\n",
        "    window.InputWidgets = InputWidgets;\n",
        "\n",
        "})(jQuery, undefined);\n",
        "</script>"
       ],
       "metadata": {},
       "output_type": "display_data"
      },
      {
       "output_type": "stream",
       "stream": "stderr",
       "text": [
        "Vendor:  Continuum Analytics, Inc.\n",
        "Package: mkl\n",
        "Message: trial mode expires in 26 days\n",
        "INFO: Loading help data...\n"
       ]
      },
      {
       "html": [
        "<script charset=\"utf-8\">(function (IPython, $, _, MathJax, Widgets) {\n",
        "    $.event.special.destroyed = {\n",
        "\tremove: function(o) {\n",
        "\t    if (o.handler) {\n",
        "\t\to.handler.apply(this, arguments)\n",
        "\t    }\n",
        "\t}\n",
        "    }\n",
        "\n",
        "    var redrawValue = function (container, type, val) {\n",
        "\tvar selector = $(\"<div/>\");\n",
        "\tvar oa = new IPython.OutputArea(_.extend(selector, {\n",
        "\t    selector: selector,\n",
        "\t    prompt_area: true,\n",
        "\t    events: IPython.events,\n",
        "\t    keyboard_manager: IPython.keyboard_manager\n",
        "\t})); // Hack to work with IPython 2.1.0\n",
        "\n",
        "\tswitch (type) {\n",
        "\tcase \"image/png\":\n",
        "            var _src = 'data:' + type + ';base64,' + val;\n",
        "\t    $(container).find(\"img\").attr('src', _src);\n",
        "\t    break;\n",
        "\tdefault:\n",
        "\t    var toinsert = IPython.OutputArea.append_map[type].apply(\n",
        "\t\toa, [val, {}, selector]\n",
        "\t    );\n",
        "\t    $(container).empty().append(toinsert.contents());\n",
        "\t    selector.remove();\n",
        "\t}\n",
        "\tif (type === \"text/latex\" && MathJax) {\n",
        "\t    MathJax.Hub.Queue([\"Typeset\", MathJax.Hub, toinsert.get(0)]);\n",
        "\t}\n",
        "    }\n",
        "\n",
        "\n",
        "    $(document).ready(function() {\n",
        "\tWidgets.debug = false; // log messages etc in console.\n",
        "\tfunction initComm(evt, data) {\n",
        "\t    var comm_manager = data.kernel.comm_manager;\n",
        "\t    comm_manager.register_target(\"Signal\", function (comm) {\n",
        "\t\tcomm.on_msg(function (msg) {\n",
        "\t\t    //Widgets.log(\"message received\", msg);\n",
        "\t\t    var val = msg.content.data.value;\n",
        "\t\t    $(\".signal-\" + comm.comm_id).each(function() {\n",
        "\t\t\tvar type = $(this).data(\"type\");\n",
        "\t\t\tif (val[type]) {\n",
        "\t\t\t    redrawValue(this, type, val[type], type);\n",
        "\t\t\t}\n",
        "\t\t    });\n",
        "\t\t    delete val;\n",
        "\t\t    delete msg.content.data.value;\n",
        "\t\t});\n",
        "\t    });\n",
        "\n",
        "\t    // coordingate with Comm and redraw Signals\n",
        "\t    // XXX: Test using Reactive here to improve performance\n",
        "\t    $([IPython.events]).on(\n",
        "\t\t'output_appended.OutputArea', function (event, type, value, md, toinsert) {\n",
        "\t\t    if (md && md.reactive) {\n",
        "\t\t\t// console.log(md.comm_id);\n",
        "\t\t\ttoinsert.addClass(\"signal-\" + md.comm_id);\n",
        "\t\t\ttoinsert.data(\"type\", type);\n",
        "\t\t\t// Signal back indicating the mimetype required\n",
        "\t\t\tvar comm_manager = IPython.notebook.kernel.comm_manager;\n",
        "\t\t\tvar comm = comm_manager.comms[md.comm_id];\n",
        "\t\t\tcomm.send({action: \"subscribe_mime\",\n",
        "\t\t\t\t   mime: type});\n",
        "\t\t\ttoinsert.bind(\"destroyed\", function() {\n",
        "\t\t\t    comm.send({action: \"unsubscribe_mime\",\n",
        "\t\t\t\t       mime: type});\n",
        "\t\t\t});\n",
        "\t\t    }\n",
        "\t    });\n",
        "\n",
        "\t    // Set up communication for Widgets\n",
        "\t    Widgets.commInitializer = function (widget) {\n",
        "\t\tvar comm = comm_manager.new_comm(\n",
        "\t\t    \"InputWidget\", {widget_id: widget.id}\n",
        "\t\t);\n",
        "\t\twidget.sendUpdate = function () {\n",
        "\t\t    // `this` is a widget here.\n",
        "\t\t    // TODO: I have a feeling there's some\n",
        "\t\t    //       IPython bookkeeping to be done here.\n",
        "\t\t    // Widgets.log(\"State changed\", this, this.getState());\n",
        "\t\t    comm.send({value: this.getState()});\n",
        "\t\t}\n",
        "\t    };\n",
        "\t}\n",
        "\n",
        "\ttry {\n",
        "\t    // try to initialize right away. otherwise, wait on the status_started event.\n",
        "\t    initComm(undefined, IPython.notebook);\n",
        "\t} catch (e) {\n",
        "\t    $([IPython.events]).on('status_started.Kernel', initComm);\n",
        "\t}\n",
        "    });\n",
        "})(IPython, jQuery, _, MathJax, InputWidgets);\n",
        "</script>"
       ],
       "metadata": {},
       "output_type": "display_data"
      }
     ],
     "prompt_number": 1
    },
    {
     "cell_type": "markdown",
     "metadata": {},
     "source": [
      "### Numerical verification of AR-MP distribution"
     ]
    },
    {
     "cell_type": "code",
     "collapsed": false,
     "input": [
      "f = figure(figsize=(8, 3))\n",
      "\u03c3 = 1.0\n",
      "\n",
      "@manipulate for n = [1000, 2000, 5000], p = 100:5000, \u03d5 = 0.02:0.02:0.98\n",
      "    m = ARMPModel(n, p, \u03d5, \u03c3)\n",
      "        \n",
      "    Ss = sv_rand(m)\n",
      "    Su, Sl = sv_ub(m), sv_lb(m)\n",
      "        \n",
      "    Es = ev_rand(m)\n",
      "    Eu, El = ev_ub(m), ev_lb(m)\n",
      "        \n",
      "    svspec, evspec = sv_spec(m), ev_spec(m)\n",
      "        \n",
      "    withfig(f) do\n",
      "        x = ev_linsupport(m, 51)[2:end - 1]\n",
      "        y = map(evspec, x)\n",
      "        subplot(121)\n",
      "        plt.hist(Es, normed=true, histtype=\"step\", bins=40)\n",
      "        plot(x, y, \"r--\", linewidth=2)\n",
      "        axvline(El, linewidth=2, color=\"k\", linestyle=\"--\")\n",
      "        axvline(Eu, linewidth=2, color=\"k\", linestyle=\"--\")\n",
      "        xticks([El, Eu]); yticks([minimum(y), maximum(y)]); ylim([0, maximum(y) * 1.2]); title(\"Eigenvalue Spectrum\")\n",
      "            \n",
      "        x = sv_linsupport(m, 51)[2:end - 1]\n",
      "        y = map(svspec, x)\n",
      "        subplot(122)\n",
      "        plt.hist(Ss, normed=true, histtype=\"step\", bins=40)\n",
      "        plot(x, y, \"r--\", linewidth=2)\n",
      "        axvline(Sl, linewidth=2, color=\"k\", linestyle=\"--\")\n",
      "        axvline(Su, linewidth=2, color=\"k\", linestyle=\"--\")\n",
      "        xticks([Sl, Su]); yticks([minimum(y), maximum(y)]); ylim([0, maximum(y) * 1.2]); title(\"Singular Value Spectrum\")\n",
      "        \n",
      "        tight_layout()\n",
      "    end\n",
      "end"
     ],
     "language": "python",
     "metadata": {},
     "outputs": [
      {
       "html": [],
       "metadata": {},
       "output_type": "display_data",
       "text": [
        "Options{:ToggleButtons,Int64}([Input{Int64}] 1000,\"n\",1000,\"1000\",[\"1000\"=>1000,\"2000\"=>2000,\"5000\"=>5000])"
       ]
      },
      {
       "html": [],
       "metadata": {},
       "output_type": "display_data",
       "text": [
        "Slider{Int64}([Input{Int64}] 2550,\"p\",2550,100:5000)"
       ]
      },
      {
       "html": [],
       "metadata": {},
       "output_type": "display_data",
       "text": [
        "Slider{Float64}([Input{Float64}] 0.5,\"\u03d5\",0.5,0.02:0.02:0.98)"
       ]
      },
      {
       "metadata": {
        "comm_id": "0e792d44-0b01-4fdd-bf21-a91954fc8018",
        "reactive": true
       },
       "output_type": "pyout",
       "png": "[encoded data removed]",
       "prompt_number": 2,
       "text": [
        "Figure(PyObject <matplotlib.figure.Figure object at 0x7f2bb53bd490>)"
       ]
      }
     ],
     "prompt_number": 2
    },
    {
     "cell_type": "code",
     "collapsed": false,
     "input": [
      "g = figure(figsize=(8, 3))\n",
      "npt, \u03c3 = 20, 1.0\n",
      "\n",
      "# cca(U, V) = sum(svd(U' * V)[2]) / size(U, 2)\n",
      "\n",
      "@manipulate for n in [500, 1000, 2000], p = 100:5000, k = 1:5, \u03d5 = 0.02:0.02:0.98\n",
      "    m = ARMPModel(n, p, \u03d5, \u03c3)\n",
      "    \n",
      "    sthresh = sv_infloor(m)\n",
      "    ethresh = ev_infloor(m)\n",
      "    sv_out = zeros(npt, k)\n",
      "    ev_out = zeros(npt, k)\n",
      "    sv_in = linspace(0, sthresh * 2, npt)\n",
      "    for (ksv, sv) in enumerate(sv_in)\n",
      "        U, V = qr(randn(n, k))[1], qr(randn(p, k))[1]\n",
      "        X = rand(m) + sv * U * V'\n",
      "        ev_out[ksv, :] = eigs(X * X'; nev=k)[1]\n",
      "        sv_out[ksv, :] = sqrt(ev_out[ksv, :])\n",
      "    end\n",
      "    \n",
      "#     sv_out_theory = map(x -> sv_xfer(m, x), sv_in)\n",
      "#     ev_out_theory = map(x -> ev_xfer(m, x), sv_in.^2)\n",
      "    \n",
      "    withfig(g) do\n",
      "        subplot(121)\n",
      "        plot(sv_in, sv_out, \".\")\n",
      "#         plot(sv_in, sv_out_theory, \"k-\", linewidth=2)\n",
      "        axvline(sthresh, color=\"r\", linestyle=\"--\", linewidth=2)\n",
      "#         axhline(sv_xfer(m, sthresh), color=\"r\", linestyle=\"--\", linewidth=2)\n",
      "        title(\"Singular Value Phase Transition\")\n",
      "        \n",
      "        subplot(122)\n",
      "        plot(sv_in.^2, ev_out, \".\")\n",
      "        axvline(ethresh, color=\"r\", linestyle=\"--\", linewidth=2)\n",
      "        title(\"Eigenvalue Phase Transition\")\n",
      "#         subplot(222)\n",
      "#         plot(sv_in.^2, ev_out, \".\")\n",
      "#         plot(sv_in.^2, ev_out_theory, \"k-\", linewidth=2)\n",
      "#         axvline(sthresh^2, color=\"r\", linestyle=\"--\", linewidth=2)\n",
      "#         axhline(sv_xfer(m, sthresh)^2, color=\"r\", linestyle=\"--\", linewidth=2)\n",
      "#         title(\"Eigenvalue Phase Transition\")\n",
      "#         subplot(223)\n",
      "#         plot(sv_in, left, \".\")\n",
      "#         plot(sv_in, left_theory, \"r--\", linewidth=2)\n",
      "#         yticks([0, 1]); title(\"Left Singular Vector Overlap\")\n",
      "#         subplot(224)\n",
      "#         plot(sv_in, right, \".\")\n",
      "#         plot(sv_in, right_theory, \"r--\", linewidth=2)\n",
      "#         yticks([0, 1]); title(\"Right Singular Vector Overlap\")\n",
      "        tight_layout()\n",
      "    end\n",
      "end"
     ],
     "language": "python",
     "metadata": {},
     "outputs": [
      {
       "html": [],
       "metadata": {},
       "output_type": "display_data",
       "text": [
        "Options{:ToggleButtons,Int64}([Input{Int64}] 500,\"n\",500,\"500\",[\"500\"=>500,\"1000\"=>1000,\"2000\"=>2000])"
       ]
      },
      {
       "html": [],
       "metadata": {},
       "output_type": "display_data",
       "text": [
        "Slider{Int64}([Input{Int64}] 2550,\"p\",2550,100:5000)"
       ]
      },
      {
       "html": [],
       "metadata": {},
       "output_type": "display_data",
       "text": [
        "Slider{Int64}([Input{Int64}] 3,\"k\",3,1:5)"
       ]
      },
      {
       "html": [],
       "metadata": {},
       "output_type": "display_data",
       "text": [
        "Slider{Float64}([Input{Float64}] 0.5,\"\u03d5\",0.5,0.02:0.02:0.98)"
       ]
      },
      {
       "metadata": {
        "comm_id": "011bb328-6958-4f25-b0ad-4ee85edf141c",
        "reactive": true
       },
       "output_type": "pyout",
       "png": "[encoded data removed]",
       "prompt_number": 3,
       "text": [
        "Figure(PyObject <matplotlib.figure.Figure object at 0x7f2b952fbe50>)"
       ]
      }
     ],
     "prompt_number": 3
    },
    {
     "cell_type": "markdown",
     "metadata": {},
     "source": [
      "### Limiting behavior (T / tau -> 0, N / T = c) of AR-MP compared against MP only\n",
      "\n",
      "Comparison of the Marchenko-Pastur model and the AR MP model. For the AR model, we have $\\phi = 1 - 1 / \\tau$. For the MP model, we have $\\sigma^2 = 1 / (1 - \\phi^2)$. Maintaining the same aspect ratio ($p / n$) for the AR model, we ask what is the equivalent number of columns ($\\alpha n$) in an MP model for the spectra of the two models to be similar?"
     ]
    },
    {
     "cell_type": "code",
     "collapsed": false,
     "input": [
      "tau = 2.0; phi = 1.0 - 1.0 / tau\n",
      "sigma = 1 / sqrt(1 - phi^2)\n",
      "c = 0.4;\n",
      "println(\"tau: \", tau)\n",
      "println(\"phi: \", phi)\n",
      "println(\"sigma: \", sigma)\n",
      "println(\"c: \", c)"
     ],
     "language": "python",
     "metadata": {},
     "outputs": [
      {
       "output_type": "stream",
       "stream": "stdout",
       "text": [
        "tau: 2"
       ]
      },
      {
       "output_type": "stream",
       "stream": "stdout",
       "text": [
        ".0\n",
        "phi: 0.5\n",
        "sigma: 1.1547005383792517\n",
        "c: 0.4\n"
       ]
      }
     ],
     "prompt_number": 9
    },
    {
     "cell_type": "code",
     "collapsed": false,
     "input": [
      "using Optim\n",
      "\n",
      "nN = 5\n",
      "Ns = logspace(2, 8, nN)\n",
      "Ps = c * Ns\n",
      "aUpper = zeros(nN)\n",
      "aLower = zeros(nN)\n",
      "\n",
      "for (kN, (n, p)) in enumerate(zip(Ns, Ps))\n",
      "    armpModel = ARMPModel(int(p), int(n), phi)\n",
      "    armpLb, armpUp = lb(armpModel), ub(armpModel)\n",
      "    \n",
      "    eqLb(a) = (lb(MPModel(int(p), int(a * n / tau), sigma)) - armpLb)^2\n",
      "    eqUp(a) = (ub(MPModel(int(p), int(a * n / tau), sigma)) - armpUp)^2\n",
      "    \n",
      "    aUpper[kN] = optimize(eqUp, 0.1, 500.0).minimum\n",
      "    aLower[kN] = optimize(eqLb, 0.1, 500.0).minimum\n",
      "end"
     ],
     "language": "python",
     "metadata": {},
     "outputs": [
      {
       "ename": "LoadError",
       "evalue": "c, sigma, or phi out of bound\nwhile loading In[5], in expression starting on line 9",
       "output_type": "pyerr",
       "traceback": [
        "c, sigma, or phi out of bound\nwhile loading In[5], in expression starting on line 9",
        "",
        " in ARMPModel at /home/prgao/Dropbox/Peiran/Prediction/shenoy_lab_data/ssid/src/armp.jl:29",
        " in anonymous at no file:10"
       ]
      }
     ],
     "prompt_number": 5
    },
    {
     "cell_type": "code",
     "collapsed": false,
     "input": [
      "println(\"upper: \", aUpper[end])\n",
      "println(\"lower: \", aLower[end])\n",
      "plot(layer(x=Ns, y=aUpper, Geom.line, Theme(default_color=color(\"red\"))), layer(x=Ns, y=aLower, Geom.line), Scale.x_log10)"
     ],
     "language": "python",
     "metadata": {},
     "outputs": [
      {
       "output_type": "stream",
       "stream": "stdout",
       "text": [
        "upper: 0"
       ]
      },
      {
       "output_type": "stream",
       "stream": "stdout",
       "text": [
        ".0\n",
        "lower: 0.0\n"
       ]
      },
      {
       "ename": "LoadError",
       "evalue": "layer not defined\nwhile loading In[6], in expression starting on line 3",
       "output_type": "pyerr",
       "traceback": [
        "layer not defined\nwhile loading In[6], in expression starting on line 3",
        ""
       ]
      }
     ],
     "prompt_number": 6
    },
    {
     "cell_type": "code",
     "collapsed": false,
     "input": [
      "n = 2000; p = int(c * n);\n",
      "nTrial = 2; nBin = 41;\n",
      "\n",
      "armp_model = ARMPModel(p, n, phi)\n",
      "mp_model = MPModel(p, n, sigma)"
     ],
     "language": "python",
     "metadata": {},
     "outputs": [
      {
       "ename": "LoadError",
       "evalue": "c, sigma, or phi out of bound\nwhile loading In[7], in expression starting on line 4",
       "output_type": "pyerr",
       "traceback": [
        "c, sigma, or phi out of bound\nwhile loading In[7], in expression starting on line 4",
        "",
        " in ARMPModel at /home/prgao/Dropbox/Peiran/Prediction/shenoy_lab_data/ssid/src/armp.jl:29"
       ]
      }
     ],
     "prompt_number": 7
    },
    {
     "cell_type": "code",
     "collapsed": false,
     "input": [
      "figure(figsize=(4, 3))\n",
      "\n",
      "armpSpecSupport = logSpecSupport(armp_model, 101)\n",
      "armpPDF = map(spec(armp_model), armpSpecSupport)\n",
      "plot(armpSpecSupport, armpPDF, \"r\")\n",
      "\n",
      "# armpDensity = randSpecDensity(armp_model, nTrial, nBin)\n",
      "# plot(armpDensity[1], armpDensity[2], \"r.\")\n",
      "\n",
      "mpSpecSupport = logSpecSupport(mp_model, 101)\n",
      "mpPDF = map(spec(mp_model), mpSpecSupport)\n",
      "plot(mpSpecSupport, mpPDF, \"b\")\n",
      "\n",
      "# mpDensity = randSpecDensity(mp_model, nTrial, nBin)\n",
      "# plot(mpDensity[1], mpDensity[2], \"b.\")\n",
      "\n",
      "xlabel(\"Eigenvalues\"); ylabel(\"Density\")\n",
      "legend([\"Correlated noise\", \"Uncorrelated noise\"])\n",
      "\n",
      "savefig(\"noise.png\")"
     ],
     "language": "python",
     "metadata": {},
     "outputs": [
      {
       "ename": "LoadError",
       "evalue": "logSpecSupport not defined\nwhile loading In[8], in expression starting on line 3",
       "output_type": "pyerr",
       "traceback": [
        "logSpecSupport not defined\nwhile loading In[8], in expression starting on line 3",
        "",
        " in getindex at /home/prgao/.julia/v0.3/PyCall/src/PyCall.jl:249",
        " in pysequence_query at /home/prgao/.julia/v0.3/PyCall/src/conversions.jl:748",
        " in pytype_query at /home/prgao/.julia/v0.3/PyCall/src/conversions.jl:764",
        " in convert at /home/prgao/.julia/v0.3/PyCall/src/conversions.jl:814",
        " in pycall at /home/prgao/.julia/v0.3/PyCall/src/PyCall.jl:412",
        " in fn at /home/prgao/.julia/v0.3/PyCall/src/conversions.jl:181",
        " in close_queued_figs at /home/prgao/.julia/v0.3/PyPlot/src/PyPlot.jl:295"
       ]
      }
     ],
     "prompt_number": 8
    },
    {
     "cell_type": "markdown",
     "metadata": {},
     "source": [
      "### Recovering low-dim dynamics\n",
      "\n",
      "Fix $K, P / N$, take the limit $P, N \\to \\infty$. Where is the theoretically predicted gap? How does it related to the error in recovered eigenvalues?"
     ]
    }
   ],
   "metadata": {}
  }
 ]
}