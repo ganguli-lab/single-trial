{
 "metadata": {
  "language": "Julia",
  "name": "",
  "signature": "sha256:5bb22505776deec7bef3d9e7c92486eedaf231e4f5743ea48811fa8e700403c7"
 },
 "nbformat": 3,
 "nbformat_minor": 0,
 "worksheets": [
  {
   "cells": [
    {
     "cell_type": "markdown",
     "metadata": {},
     "source": [
      "### Problem\n",
      "\n",
      "We would like to find the eigenvalue spectrum of \n",
      "\n",
      "$$\n",
      "SUU^TS^T\n",
      "$$\n",
      "\n",
      "where\n",
      "  - $U$, a $N$-by-$K$ orthogonal embedding matrix,\n",
      "  - $S$, a $M$-by-$N$ random sampling matrix,\n",
      "  - $K \\leq M$.\n",
      "\n",
      "We will use the short hand\n",
      "\n",
      "$$\n",
      "A = SU, m = \\frac{M}{N}, k = \\frac{K}{N}\n",
      "$$\n",
      "\n",
      "We aim to find the eigenvalue spectrum of $AA^T$, $\\mu^{AA^T}(\\lambda)$, through its Steijles transform,\n",
      "\n",
      "$$\n",
      "\\begin{align}\n",
      "G^{AA^T}(z) &= \\int \\frac{1}{z - \\lambda} d\\mu^{AA^T}(\\lambda) \\\\\n",
      "&= \\lim_{N \\to \\infty} \\sum_{i = 0}^\\infty \\frac{\\text{Tr}\\left[ \\frac{1}{M}(AA^T)^i \\right]}{z^{i + 1}}\n",
      "\\end{align}\n",
      "$$\n"
     ]
    },
    {
     "cell_type": "markdown",
     "metadata": {},
     "source": [
      "### Result\n",
      "\n",
      "The proof has some problems (got spectrum for $I - AA^T$ instead), but the result can be easily fixed, so here we will just state them for the time being.\n",
      "\n",
      "For the Steijles transform,\n",
      "\n",
      "$$\n",
      "G^{AA^T}(z) = \\frac{-2mz + z + m - k + \\sqrt{(z - \\lambda_+)(z - \\lambda_-)}}{2mz(z-1)}\n",
      "$$\n",
      "\n",
      "For the eigenvalue spectrum,\n",
      "\n",
      "$$\n",
      "\\mu^{AA^T}(\\lambda) = \\frac{\\sqrt{(\\lambda - \\lambda_-)(\\lambda_+ - \\lambda)}}{2\\pi m \\lambda (1 - \\lambda)} + \\frac{m - k}{m}\\delta_0\n",
      "$$\n",
      "\n",
      "In both expressions, the upper and lower bound of the non-zero eigenvalues are,\n",
      "\n",
      "$$\n",
      "\\lambda_\\pm = \\left(\\sqrt{m(1 - k)} \\pm \\sqrt{k(1 - m)}\\right)^2\n",
      "$$"
     ]
    },
    {
     "cell_type": "markdown",
     "metadata": {},
     "source": [
      "### Verification"
     ]
    },
    {
     "cell_type": "code",
     "collapsed": false,
     "input": [
      "using PyPlot, Interact\n",
      "\n",
      "f = figure(figsize=(4, 3))\n",
      "N = 1000\n",
      "@manipulate for k = 0.01:0.01:1, m = 0.01:0.01:1\n",
      "    if k <= m\n",
      "        K, M = int(k * N), int(m * N)\n",
      "        A = qr(randn(N, K))[1][randperm(N)[1:M], :]\n",
      "        es = eig(A * A')[1]\n",
      "        \n",
      "        withfig(f) do\n",
      "            lp, lm = (sqrt(k * (1 - m)) + sqrt(m * (1 - k)))^2, (sqrt(k * (1 - m)) - sqrt(m * (1 - k)))^2\n",
      "            ls = linspace(sqrt(lm), sqrt(lp), 101).^2\n",
      "            rho(l) = sqrt((l - lm) * (lp - l)) / 2 / pi / m / l / (1 - l)\n",
      "            rhos = map(rho, ls)\n",
      "            \n",
      "            plt.hist(sqrt(es), normed=true, histtype=\"step\", bins=40, linewidth=2, color=\"k\")\n",
      "            plot(sqrt(ls), sqrt(rhos) * 2 .* sqrt(ls), linewidth=2, color=\"r\")\n",
      "            axvline(sqrt(lp), linestyle=\"--\", linewidth=2, color=\"r\")\n",
      "            axvline(sqrt(lm), linestyle=\"--\", linewidth=2, color=\"r\")\n",
      "            xlim([-0.1, 1.1]); ylim([0, maximum(sqrt(rhos)) * 1.2])\n",
      "            title(\"Eigenvalue Spectrum of AA'\")\n",
      "            \n",
      "            tight_layout()\n",
      "        end\n",
      "    end\n",
      "end"
     ],
     "language": "python",
     "metadata": {},
     "outputs": [
      {
       "html": [],
       "metadata": {},
       "output_type": "display_data",
       "text": [
        "Slider{Float64}([Input{Float64}] 0.5,\"k\",0.5,0.01:0.01:1.0)"
       ]
      },
      {
       "html": [],
       "metadata": {},
       "output_type": "display_data",
       "text": [
        "Slider{Float64}([Input{Float64}] 0.5,\"m\",0.5,0.01:0.01:1.0)"
       ]
      },
      {
       "metadata": {
        "comm_id": "ba9b7d1d-f66a-4894-8d9a-fcf61eb1817b",
        "reactive": true
       },
       "output_type": "pyout",
       "png": "[encoded data removed]",
       "prompt_number": 7,
       "text": [
        "Figure(PyObject <matplotlib.figure.Figure object at 0x7f922815bc10>)"
       ]
      }
     ],
     "prompt_number": 7
    }
   ],
   "metadata": {}
  }
 ]
}