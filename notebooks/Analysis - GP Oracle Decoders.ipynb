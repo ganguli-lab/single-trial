{
 "cells": [
  {
   "cell_type": "markdown",
   "metadata": {},
   "source": [
    "### Relevant Libraries"
   ]
  },
  {
   "cell_type": "code",
   "execution_count": 1,
   "metadata": {
    "collapsed": false
   },
   "outputs": [
    {
     "name": "stderr",
     "output_type": "stream",
     "text": [
      "WARNING: Method definition info(Any...) in module Base at util.jl:334 overwritten in module Logging at /home/prgao/.julia/v0.4/Logging/src/Logging.jl:61.\n",
      "WARNING: Method definition warn(Any...) in module Base at util.jl:364 overwritten in module Logging at /home/prgao/.julia/v0.4/Logging/src/Logging.jl:61.\n"
     ]
    },
    {
     "data": {
      "text/plain": [
       "Logger(root,DEBUG,IOStream(<file oracle.ml.log>),root)"
      ]
     },
     "execution_count": 1,
     "metadata": {},
     "output_type": "execute_result"
    }
   ],
   "source": [
    "push!(LOAD_PATH, \"../src/\")\n",
    "using GP, PyPlot, Logging\n",
    "Logging.configure(level=DEBUG, filename=\"oracle.ml.log\")"
   ]
  },
  {
   "cell_type": "code",
   "execution_count": 2,
   "metadata": {
    "collapsed": true
   },
   "outputs": [],
   "source": [
    "# start the parallel processes\n",
    "if length(workers()) > 1\n",
    "    rmprocs(workers())\n",
    "end\n",
    "addprocs(11)\n",
    "@everywhere push!(LOAD_PATH, \"../src/\")\n",
    "@everywhere using GP"
   ]
  },
  {
   "cell_type": "markdown",
   "metadata": {},
   "source": [
    "### Simulation profiles"
   ]
  },
  {
   "cell_type": "code",
   "execution_count": 6,
   "metadata": {
    "collapsed": false
   },
   "outputs": [
    {
     "data": {
      "text/plain": [
       "linspace(0.0,6.234097921967246,128)"
      ]
     },
     "execution_count": 6,
     "metadata": {},
     "output_type": "execute_result"
    }
   ],
   "source": [
    "# simulation profiles\n",
    "# num neurons\n",
    "Ms = round(Int64, logspace(log10(20), log10(500), 10))\n",
    "# three different combinations of smoothness and noise std (signal std = 1)\n",
    "Δs, σns = Float64[2, 2, 0.5], Float64[1, sqrt(0.1), sqrt(0.1)]\n",
    "# resolution to sample the tuning curves at\n",
    "res = 1024\n",
    "# decoding at every \"step\" samples of the true tuning curves are tested\n",
    "step = 8\n",
    "ntest = round(Int64, res / step)\n",
    "# stimuli corresponding to the sampled true tuning curves\n",
    "θs = linspace(0, 2π, res+1)[1:res]\n",
    "# test stimuli\n",
    "θs_test = θs[1:step:res]"
   ]
  },
  {
   "cell_type": "markdown",
   "metadata": {},
   "source": [
    "### Run oracle decoding"
   ]
  },
  {
   "cell_type": "code",
   "execution_count": 30,
   "metadata": {
    "collapsed": false
   },
   "outputs": [],
   "source": [
    "# draw all the data\n",
    "errs = zeros(length(Ms), length(Δs), ntest)\n",
    "# stepping through smoothness and snr combinations\n",
    "for (ix, (Δ, σn)) in enumerate(zip(Δs, σns))\n",
    "    # looping over population size\n",
    "    for (ixM, M) in enumerate(Ms)\n",
    "        debug(\"ix: $ix, ixM: $ixM\") # write to log file to track progress\n",
    "        ker = GP.Kernel(Δ)\n",
    "        # generate the population of tuning curves\n",
    "        θs, xs = tc(res, M, ker)\n",
    "        # responses values at test stimuli\n",
    "        rs_test = xs[1:step:end, :] + randn(ntest, M) * σn\n",
    "        # decoding by finding the cloest point on the manifold from the test responses\n",
    "        helper(x, Y) = findmin(vec(sum((x .- Y).^2, 2)))[2]\n",
    "        min_ix = pmap(helper, [rs_test[t, :] for t in 1:ntest], [xs for t in 1:ntest]) # parallel map\n",
    "        min_ix = convert(Array{Int64, 1}, min_ix)\n",
    "        θs_test_hat = θs[min_ix]\n",
    "        \n",
    "        # compute the squared error by unrolling the angular variable first\n",
    "        errs[ixM, ix, :] = imag(log(exp((θs_test_hat - θs_test) * 1im)))\n",
    "    end\n",
    "end"
   ]
  },
  {
   "cell_type": "markdown",
   "metadata": {},
   "source": [
    "### Plot results"
   ]
  },
  {
   "cell_type": "code",
   "execution_count": 36,
   "metadata": {
    "collapsed": false
   },
   "outputs": [
    {
     "data": {
      "image/png": "[encoded data removed]",
      "text/plain": [
       "PyPlot.Figure(PyObject <matplotlib.figure.Figure object at 0x7f2fa1a28ac8>)"
      ]
     },
     "metadata": {},
     "output_type": "display_data"
    },
    {
     "data": {
      "text/plain": [
       "PyObject <matplotlib.text.Text object at 0x7f2fa169bd68>"
      ]
     },
     "execution_count": 36,
     "metadata": {},
     "output_type": "execute_result"
    }
   ],
   "source": [
    "figure(figsize=(4, 3))\n",
    "colors = [\"b\", \"r\", \"g\"]\n",
    "for (ix, (Δ, σn)) in enumerate(zip(Δs, σns))\n",
    "    plot(Ms, 1 ./ (Ms  / (cosh(Δ) - 1) * 1 / σn^2), colors[ix] * \"-\")\n",
    "    plot(Ms, vec(mean(errs[:, ix, :].^2, 3)), colors[ix] * \"o\")\n",
    "end\n",
    "xscale(\"log\"); yscale(\"log\")\n",
    "xlabel(\"M\"); ylabel(\"Square Error\")"
   ]
  }
 ],
 "metadata": {
  "kernelspec": {
   "display_name": "Julia 0.4.0",
   "language": "julia",
   "name": "julia-0.4"
  },
  "language_info": {
   "file_extension": ".jl",
   "mimetype": "application/julia",
   "name": "julia",
   "version": "0.4.0"
  }
 },
 "nbformat": 4,
 "nbformat_minor": 0
}
